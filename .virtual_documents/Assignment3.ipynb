





total_purchase = int(input("Enter the total purchase amt: "))
if total_purchase >100:
    discount = total_purchase*.10
    print(f"Total Purchase Amt: ${total_purchase} ")
    print(f"Discount Availed ${discount}")
    print(f"Amount After Discount is ${total_purchase-discount}")
else:
    print(f"Amount Payable is ${total_purchase}")





total_amt = int(input("Enter the total purchase amt: "))
total_purchased_item = int(input("Enter the no of item you purchased ?"))

if total_purchased_item > 5:
    print(f"The discount you got is 15% which means you have to pay {total_amt * 0.85}")
else:
    print(f"Pay the current amt : {total_amt}")





total_amt = 5000
user_input = input("Are you a member? ")
is_member = user_input.startswith("Y") or user_input.startswith("y")

if is_member: print(f"For being a member you gets a discount of 20% which means you only have to pay {total_amt * 0.80} ")
else: print(f"The amount you have to pay is {total_amt}")





user_input = input("Is today a holiday")
amt = 100000
if user_input.startswith("Y") or user_input.startswith("y"):
    print(f"The amount you have to pay is {amt*0.80} ")
else:
    print(f"The amount you have to pay is {amt} ")





items = int(input("How much items have you purchased ?"))
if items % 2 == 0 :
    print(f"The number of items the customer has to pay for {items // 2}")
else:
    print(f"The number of items the customer has to pay for {items}")








import random


price = random.randint(300 ,1000)  

print(price)

if price > 500 :
    tax = price * 0.15
    print(tax)
    total_price = price + tax
    print(f"You have gotten a luxury tax of 15% which means you have to pay {total_price}")
else:
    tax = price * 0.08
    print(tax)
    total_price = price + tax
    print(f"You have gotten a standard tax of 8% which means you have to pay {total_price}")





income = int(input("How much is your salary?"))

if income > 50000:
    print(f"The tax you have to pay is {income*0.20}")
else:
    print(f"The tax you have to pay is {income*0.1}")





if income < 30000:
    print("Low Tax")
elif 30000<=income<=100000:
    print("Medium Tax")
else:
    print("High Tax")






price = float(input("Enter the price of the item: "))
is_essential = input("Is the item essential? (True/False): ").strip().lower() == 'true'

if is_essential:
    vat = 0.05  # 5% VAT for essential items
else:
    vat = 0.12  # 12% VAT for non-essential items

# Calculate the final price
final_price = price + (price * vat)

# Display the final price
print(f"The final price after applying VAT is: {final_price:.2f}")







price = float(input("Enter the price of the item: "))
is_essential = input("Is the day tax free (True/False): ").strip().lower() == 'true'

if is_essential:
    print(f"The price is {price}")
else:
    price += price*0.07
    print(f"The price is {price}")











price = float(input("Enter the price of the item: "))

if price > 50:
    print(f"Your product will be delivered to you at no cost. Enjoy free Shipping!")
else:
    print(f"You have to pay {price + 5}")







price = float(input("Enter the price? "))
disc_code = input("Enter the discount code you have! ")

if disc_code == "DISCOUNT10":
    print(f"You have to pay {price*0.9} which means 10% discount")
else:
    print(f"You have to pay ${price}")





price = float(input("Enter the price? "))


if price<50:
    print(f"No discount .price ${price}")
elif price <=100:
    print(f"10% Discount. Price ${price*0.90}")
else:
    print(f"20% discount. Price ${price*0.80}")





total_purchase = float(input("Enter the price? "))

if price<20:
    print("Minimum purchase of $20 is required")
else:
    print(f"Amount to be payed ${total_purchase}")





customer = {
    "Haris":"Loyal",
    "Umer":"UnLoyal",
    "Siraj":"Loyal",
    "Ali":"Loyal",
    "Hurairah":"UnLoyal",
}
for k in customer:
    if customer[k] == "Loyal":
        print(f"{k} is a loyal customer and earns double loyalty points")
    else:
        print(f"{k} is not a loyal customer and earns standard loyalty points")








import random
distance = float(input("How much  miles are you travelling? "))
price = random.randint(9000 , 20000)
if distance > 500:
    print(f"You are getting a discount of 20% which means you have to pay ${price*0.80}")
else:
    print(f"Amount payable : ${price}")





age = int(input("Enter you age"))
price= 90000
if age < 12 or age > 60:
    print(f"Price Payable : ${price*0.85}")
else:
    print("Price Payable: ${price}")






price = float(input("Enter the price of the item: "))
is_weekend = input("Is it a weekend today? ").strip().lower() == 'true'

if is_weekend:
    price+= price * 0.10
    print(f"The price is {price}")
else:
    print(f"The price is {price}")







weight = float(input("What is the weight "))
price = 9000

if weight > 20 :
    extra_fee = 10
    extra_weight = weight - 20

    fee = extra_weight * extra_fee
    price+= fee
    print(f"The cost is ${price}")
else:
    print(f"The price is {price}")








day = int(input("Enter the price of the item: "))
price = 600
if day > 30:

    print(f"The price is {price*0.90}")
else:
    print(f"The price is {price}")










score = float(input("Enter your score? "))
if score>40:
    print("Pass!")
else:
    print("Fail")





score = float(input("Enter your score? "))
if score>90:
    grade = "A"
    print(f"{grade}")
elif score>=75:
    grade = "B"
    print(f"{grade}")
elif score>=50:
    grade = "C"
    print(f"{grade}")
else:
    grade = "D"
    print(f"{grade}")





no_of_assignments = input("Have you completed all assignments? ")

if no_of_assignments.startswith("y") or no_of_assignments.startswith("Y"):
    score+=5
    print(f"Your score is {score}")
else:
    print(f"Your score is {score}")





attendance = int(input("How much is your attendance"))

if attendance > 75:
    print("Eligible for the exam")
else:
    print("Not Eligible")





# Example inputs
grade = input("Enter your grade")  # student's grade
family_income = int(input("Enter family income"))  # student's annual family income

# Scholarship eligibility check
if grade == "A" and family_income < 30000:
    print("The student is eligible for the scholarship.")
else:
    print("The student is not eligible for the scholarship.")




