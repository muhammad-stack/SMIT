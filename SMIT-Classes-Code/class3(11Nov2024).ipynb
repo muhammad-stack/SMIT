{
 "cells": [
  {
   "cell_type": "markdown",
   "id": "54881cd0",
   "metadata": {},
   "source": [
    "# String: Data in inverted comas \n",
    "#### String is class\n",
    "#### String is immutable (non changable)"
   ]
  },
  {
   "cell_type": "code",
   "execution_count": 6,
   "id": "3af24af7",
   "metadata": {},
   "outputs": [],
   "source": [
    "course  = \"artificial intelligence\""
   ]
  },
  {
   "cell_type": "code",
   "execution_count": 7,
   "id": "ecca3859",
   "metadata": {},
   "outputs": [
    {
     "name": "stdout",
     "output_type": "stream",
     "text": [
      "<class 'str'>\n"
     ]
    }
   ],
   "source": [
    "print(type(course))"
   ]
  },
  {
   "cell_type": "code",
   "execution_count": 8,
   "id": "81d10061",
   "metadata": {},
   "outputs": [
    {
     "data": {
      "text/plain": [
       "'Artificial intelligence'"
      ]
     },
     "execution_count": 8,
     "metadata": {},
     "output_type": "execute_result"
    }
   ],
   "source": [
    "course.capitalize()"
   ]
  },
  {
   "cell_type": "code",
   "execution_count": 9,
   "id": "02749929",
   "metadata": {},
   "outputs": [
    {
     "data": {
      "text/plain": [
       "'ARTIFICIAL INTELLIGENCE'"
      ]
     },
     "execution_count": 9,
     "metadata": {},
     "output_type": "execute_result"
    }
   ],
   "source": [
    "course.upper()"
   ]
  },
  {
   "cell_type": "code",
   "execution_count": 10,
   "id": "08fe022c",
   "metadata": {},
   "outputs": [
    {
     "data": {
      "text/plain": [
       "'artificial intelligence'"
      ]
     },
     "execution_count": 10,
     "metadata": {},
     "output_type": "execute_result"
    }
   ],
   "source": [
    "course.lower()"
   ]
  },
  {
   "cell_type": "code",
   "execution_count": 11,
   "id": "c5cd5937",
   "metadata": {},
   "outputs": [
    {
     "data": {
      "text/plain": [
       "'Artificial Intelligence'"
      ]
     },
     "execution_count": 11,
     "metadata": {},
     "output_type": "execute_result"
    }
   ],
   "source": [
    "course.title()"
   ]
  },
  {
   "cell_type": "code",
   "execution_count": 14,
   "id": "5147dc07",
   "metadata": {},
   "outputs": [
    {
     "data": {
      "text/plain": [
       "0"
      ]
     },
     "execution_count": 14,
     "metadata": {},
     "output_type": "execute_result"
    }
   ],
   "source": [
    "course.count(\"E\")"
   ]
  },
  {
   "cell_type": "code",
   "execution_count": 18,
   "id": "931a26b7",
   "metadata": {},
   "outputs": [],
   "source": [
    "text = \"It’s typically more aggressive, and because basal-like cancers lack targeted treatments, it’s a promising focus for virtual screening and target identification.\""
   ]
  },
  {
   "cell_type": "code",
   "execution_count": 20,
   "id": "f7add91c",
   "metadata": {},
   "outputs": [
    {
     "data": {
      "text/plain": [
       "True"
      ]
     },
     "execution_count": 20,
     "metadata": {},
     "output_type": "execute_result"
    }
   ],
   "source": [
    "text.endswith(\"identification.\")"
   ]
  },
  {
   "cell_type": "code",
   "execution_count": 21,
   "id": "877e8c8a",
   "metadata": {},
   "outputs": [
    {
     "data": {
      "text/plain": [
       "True"
      ]
     },
     "execution_count": 21,
     "metadata": {},
     "output_type": "execute_result"
    }
   ],
   "source": [
    "text.endswith(\".\")"
   ]
  },
  {
   "cell_type": "code",
   "execution_count": 22,
   "id": "930548db",
   "metadata": {},
   "outputs": [
    {
     "data": {
      "text/plain": [
       "True"
      ]
     },
     "execution_count": 22,
     "metadata": {},
     "output_type": "execute_result"
    }
   ],
   "source": [
    "text.endswith(\"ion.\")"
   ]
  },
  {
   "cell_type": "code",
   "execution_count": 23,
   "id": "c342a4c9",
   "metadata": {},
   "outputs": [
    {
     "data": {
      "text/plain": [
       "False"
      ]
     },
     "execution_count": 23,
     "metadata": {},
     "output_type": "execute_result"
    }
   ],
   "source": [
    "text.endswith(\"Identification.\")"
   ]
  },
  {
   "cell_type": "code",
   "execution_count": 24,
   "id": "954247cf",
   "metadata": {},
   "outputs": [
    {
     "data": {
      "text/plain": [
       "True"
      ]
     },
     "execution_count": 24,
     "metadata": {},
     "output_type": "execute_result"
    }
   ],
   "source": [
    "course.startswith(\"ar\")"
   ]
  },
  {
   "cell_type": "code",
   "execution_count": 25,
   "id": "a1cab7b7",
   "metadata": {},
   "outputs": [],
   "source": [
    "marks = \"100\""
   ]
  },
  {
   "cell_type": "code",
   "execution_count": 26,
   "id": "76a91f4a",
   "metadata": {},
   "outputs": [
    {
     "data": {
      "text/plain": [
       "True"
      ]
     },
     "execution_count": 26,
     "metadata": {},
     "output_type": "execute_result"
    }
   ],
   "source": [
    "marks.isalnum()"
   ]
  },
  {
   "cell_type": "code",
   "execution_count": 27,
   "id": "04d53917",
   "metadata": {},
   "outputs": [
    {
     "data": {
      "text/plain": [
       "False"
      ]
     },
     "execution_count": 27,
     "metadata": {},
     "output_type": "execute_result"
    }
   ],
   "source": [
    "marks.isalpha()"
   ]
  },
  {
   "cell_type": "code",
   "execution_count": 28,
   "id": "e396eac3",
   "metadata": {},
   "outputs": [
    {
     "data": {
      "text/plain": [
       "False"
      ]
     },
     "execution_count": 28,
     "metadata": {},
     "output_type": "execute_result"
    }
   ],
   "source": [
    "marks.islower()"
   ]
  },
  {
   "cell_type": "markdown",
   "id": "f649b0b1",
   "metadata": {},
   "source": [
    "### String Concatenation: joining\n",
    "    +  operator is concatenation operator"
   ]
  },
  {
   "cell_type": "code",
   "execution_count": 29,
   "id": "0f7077c6",
   "metadata": {},
   "outputs": [],
   "source": [
    "first_name = \"Ali\"\n",
    "last_name = \"Hassan\""
   ]
  },
  {
   "cell_type": "code",
   "execution_count": 30,
   "id": "8e0d606d",
   "metadata": {},
   "outputs": [
    {
     "data": {
      "text/plain": [
       "'AliHassan'"
      ]
     },
     "execution_count": 30,
     "metadata": {},
     "output_type": "execute_result"
    }
   ],
   "source": [
    "first_name + last_name"
   ]
  },
  {
   "cell_type": "code",
   "execution_count": 32,
   "id": "47840955",
   "metadata": {},
   "outputs": [],
   "source": [
    "age = 30"
   ]
  },
  {
   "cell_type": "code",
   "execution_count": 33,
   "id": "70c86729",
   "metadata": {},
   "outputs": [
    {
     "ename": "TypeError",
     "evalue": "can only concatenate str (not \"int\") to str",
     "output_type": "error",
     "traceback": [
      "\u001b[1;31m---------------------------------------------------------------------------\u001b[0m",
      "\u001b[1;31mTypeError\u001b[0m                                 Traceback (most recent call last)",
      "Cell \u001b[1;32mIn[33], line 1\u001b[0m\n\u001b[1;32m----> 1\u001b[0m first_name\u001b[38;5;241m+\u001b[39mlast_name\u001b[38;5;241m+\u001b[39mage\n",
      "\u001b[1;31mTypeError\u001b[0m: can only concatenate str (not \"int\") to str"
     ]
    }
   ],
   "source": [
    "first_name+last_name+age"
   ]
  },
  {
   "cell_type": "code",
   "execution_count": 34,
   "id": "874577c7",
   "metadata": {},
   "outputs": [
    {
     "data": {
      "text/plain": [
       "'AliHassan30'"
      ]
     },
     "execution_count": 34,
     "metadata": {},
     "output_type": "execute_result"
    }
   ],
   "source": [
    "first_name+last_name+str(age)"
   ]
  },
  {
   "cell_type": "code",
   "execution_count": 42,
   "id": "ef9616c7",
   "metadata": {},
   "outputs": [
    {
     "name": "stdout",
     "output_type": "stream",
     "text": [
      "Please tell me your good name: Rashid\n",
      "Dont mind abbu ka nam bataen:  Amin\n",
      "How old are you20\n",
      "Mr.Rashid s/o Amin you are 20.0 old.\n"
     ]
    }
   ],
   "source": [
    "name = input(\"Please tell me your good name: \")\n",
    "fname = input(\"Dont mind abbu ka nam bataen:  \")\n",
    "age = float(input(\"How old are you\"))\n",
    "\n",
    "print(\"Mr.\"+name+ \" s/o \"+ fname + \" you are \"+ str(age) + \" old.\")"
   ]
  },
  {
   "cell_type": "markdown",
   "id": "24d886c0",
   "metadata": {},
   "source": [
    "## string formatting"
   ]
  },
  {
   "cell_type": "code",
   "execution_count": 44,
   "id": "37a8aae3",
   "metadata": {},
   "outputs": [
    {
     "name": "stdout",
     "output_type": "stream",
     "text": [
      "Mr. Rashid S/O Amin you are 20.0 old.\n"
     ]
    }
   ],
   "source": [
    "print(\"Mr.{} S/O {} you are {} old.\".format(name,fname,age))\n",
    "# placeholders"
   ]
  },
  {
   "cell_type": "code",
   "execution_count": 45,
   "id": "41ea5705",
   "metadata": {},
   "outputs": [
    {
     "name": "stdout",
     "output_type": "stream",
     "text": [
      "Mr. Rashid S/O Amin you are 20.0 old.\n"
     ]
    }
   ],
   "source": [
    "print(f\"Mr. {name} S/O {fname} you are {age} old.\")"
   ]
  },
  {
   "cell_type": "markdown",
   "id": "4dbc168b",
   "metadata": {},
   "source": [
    "# String indexing and Slicing"
   ]
  },
  {
   "cell_type": "code",
   "execution_count": 47,
   "id": "e41df115",
   "metadata": {},
   "outputs": [],
   "source": [
    "text = \"it’s a promising focus for virtual screening and target identification.\" # single line double quotes"
   ]
  },
  {
   "cell_type": "code",
   "execution_count": 48,
   "id": "059c881e",
   "metadata": {},
   "outputs": [],
   "source": [
    "text = 'it’s a promising focus for virtual screening and target identification.' # single line single quotes"
   ]
  },
  {
   "cell_type": "code",
   "execution_count": 49,
   "id": "b49e64ed",
   "metadata": {},
   "outputs": [],
   "source": [
    "text = \"\"\"it’s a promising focus for virtual \n",
    "           screening and target \n",
    "           identification.\"\"\" # multiple line tripple quotes"
   ]
  },
  {
   "cell_type": "code",
   "execution_count": 50,
   "id": "e932da03",
   "metadata": {},
   "outputs": [],
   "source": [
    "text = '''it’s a promising focus for virtual \n",
    "           screening and target \n",
    "           identification.''' # multiple line tripple quotes"
   ]
  },
  {
   "cell_type": "markdown",
   "id": "287ebaa1",
   "metadata": {},
   "source": [
    "#### length >>> len()"
   ]
  },
  {
   "cell_type": "code",
   "execution_count": 57,
   "id": "032c467a",
   "metadata": {},
   "outputs": [
    {
     "data": {
      "text/plain": [
       "8"
      ]
     },
     "execution_count": 57,
     "metadata": {},
     "output_type": "execute_result"
    }
   ],
   "source": [
    "len(text)"
   ]
  },
  {
   "cell_type": "code",
   "execution_count": 58,
   "id": "be360b4a",
   "metadata": {},
   "outputs": [],
   "source": [
    "text = \"Paksitan\"\n",
    "#       01234567 \n",
    "#-8-7-6-5-4-3-2-1"
   ]
  },
  {
   "cell_type": "code",
   "execution_count": 60,
   "id": "042e1aec",
   "metadata": {},
   "outputs": [
    {
     "data": {
      "text/plain": [
       "'k'"
      ]
     },
     "execution_count": 60,
     "metadata": {},
     "output_type": "execute_result"
    }
   ],
   "source": [
    "# [] sqaure brackets are always used for indexing\n",
    "text[2]"
   ]
  },
  {
   "cell_type": "code",
   "execution_count": 61,
   "id": "4be4effa",
   "metadata": {},
   "outputs": [
    {
     "data": {
      "text/plain": [
       "'t'"
      ]
     },
     "execution_count": 61,
     "metadata": {},
     "output_type": "execute_result"
    }
   ],
   "source": [
    "text[-3]"
   ]
  },
  {
   "cell_type": "markdown",
   "id": "e919b963",
   "metadata": {},
   "source": [
    "# Slicing: sub string"
   ]
  },
  {
   "cell_type": "code",
   "execution_count": 62,
   "id": "48dde5b6",
   "metadata": {},
   "outputs": [],
   "source": [
    "text = \"it’s a promising focus for virtual\" # sub string"
   ]
  },
  {
   "cell_type": "code",
   "execution_count": 64,
   "id": "9f24b2f0",
   "metadata": {},
   "outputs": [
    {
     "data": {
      "text/plain": [
       "'it’s a prom'"
      ]
     },
     "execution_count": 64,
     "metadata": {},
     "output_type": "execute_result"
    }
   ],
   "source": [
    "text[0:11]  # [start : end: step]"
   ]
  },
  {
   "cell_type": "code",
   "execution_count": 65,
   "id": "2befba95",
   "metadata": {},
   "outputs": [
    {
     "data": {
      "text/plain": [
       "'a promis'"
      ]
     },
     "execution_count": 65,
     "metadata": {},
     "output_type": "execute_result"
    }
   ],
   "source": [
    "text[5:13]"
   ]
  },
  {
   "cell_type": "code",
   "execution_count": 67,
   "id": "6fcb9be9",
   "metadata": {},
   "outputs": [],
   "source": [
    "country = \"pakistan\""
   ]
  },
  {
   "cell_type": "code",
   "execution_count": 68,
   "id": "089dd89f",
   "metadata": {},
   "outputs": [
    {
     "data": {
      "text/plain": [
       "'pakist'"
      ]
     },
     "execution_count": 68,
     "metadata": {},
     "output_type": "execute_result"
    }
   ],
   "source": [
    "country[0:6:1]"
   ]
  },
  {
   "cell_type": "code",
   "execution_count": 70,
   "id": "1a96a66d",
   "metadata": {},
   "outputs": [
    {
     "data": {
      "text/plain": [
       "'pksa'"
      ]
     },
     "execution_count": 70,
     "metadata": {},
     "output_type": "execute_result"
    }
   ],
   "source": [
    "country[0:7:2]"
   ]
  },
  {
   "cell_type": "markdown",
   "id": "a5a5b2df",
   "metadata": {},
   "source": [
    "# Python Collections/DataStrcutures\n",
    " - String\n",
    " - List\n",
    " - Tuple\n",
    " - Dictionary\n",
    " - Set  "
   ]
  },
  {
   "cell_type": "markdown",
   "id": "bd630f1d",
   "metadata": {},
   "source": [
    "# LIST\n",
    "       - []\n",
    "       - many values\n",
    "       - many type values\n",
    "       - mutable\n",
    "       - index\n",
    "       - slice \n",
    "       - copy"
   ]
  },
  {
   "cell_type": "code",
   "execution_count": null,
   "id": "7ecade59",
   "metadata": {},
   "outputs": [],
   "source": [
    "student = \"Ahmed\""
   ]
  },
  {
   "cell_type": "code",
   "execution_count": 74,
   "id": "3ef2a903",
   "metadata": {},
   "outputs": [],
   "source": [
    "#            0        1       2        3        4        5      6     7       \n",
    "students = ['Ali', 'Basit','Kaleem', 'Nasir', 'Babar','Asif','Asad','Saad']\n",
    "#            -8      -7        -6       -5      -4     -3       -2    -1"
   ]
  },
  {
   "cell_type": "code",
   "execution_count": 75,
   "id": "021e007a",
   "metadata": {},
   "outputs": [
    {
     "name": "stdout",
     "output_type": "stream",
     "text": [
      "<class 'list'>\n"
     ]
    }
   ],
   "source": [
    "print(type(students))"
   ]
  },
  {
   "cell_type": "code",
   "execution_count": 76,
   "id": "f83cfd7d",
   "metadata": {},
   "outputs": [
    {
     "data": {
      "text/plain": [
       "'Nasir'"
      ]
     },
     "execution_count": 76,
     "metadata": {},
     "output_type": "execute_result"
    }
   ],
   "source": [
    "students[3]"
   ]
  },
  {
   "cell_type": "code",
   "execution_count": 78,
   "id": "c51aa01d",
   "metadata": {},
   "outputs": [
    {
     "data": {
      "text/plain": [
       "'Asad'"
      ]
     },
     "execution_count": 78,
     "metadata": {},
     "output_type": "execute_result"
    }
   ],
   "source": [
    "students[-2]"
   ]
  },
  {
   "cell_type": "code",
   "execution_count": 79,
   "id": "03b00d54",
   "metadata": {},
   "outputs": [
    {
     "data": {
      "text/plain": [
       "('Basit', 'Basit')"
      ]
     },
     "execution_count": 79,
     "metadata": {},
     "output_type": "execute_result"
    }
   ],
   "source": [
    "students[1], students[-7]"
   ]
  },
  {
   "cell_type": "code",
   "execution_count": null,
   "id": "05de6119",
   "metadata": {},
   "outputs": [],
   "source": []
  }
 ],
 "metadata": {
  "kernelspec": {
   "display_name": "Python 3 (ipykernel)",
   "language": "python",
   "name": "python3"
  },
  "language_info": {
   "codemirror_mode": {
    "name": "ipython",
    "version": 3
   },
   "file_extension": ".py",
   "mimetype": "text/x-python",
   "name": "python",
   "nbconvert_exporter": "python",
   "pygments_lexer": "ipython3",
   "version": "3.11.5"
  }
 },
 "nbformat": 4,
 "nbformat_minor": 5
}
