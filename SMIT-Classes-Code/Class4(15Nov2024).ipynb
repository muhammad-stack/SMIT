{
 "cells": [
  {
   "cell_type": "code",
   "execution_count": 1,
   "id": "c5df05a0",
   "metadata": {},
   "outputs": [],
   "source": [
    "import pandas as pd\n",
    "result = pd.read_excel(\"result.xlsx\")"
   ]
  },
  {
   "cell_type": "code",
   "execution_count": 3,
   "id": "00f71447",
   "metadata": {},
   "outputs": [],
   "source": [
    "result = result[[\"Name\",\"Email Address\", \"Score\"]]"
   ]
  },
  {
   "cell_type": "code",
   "execution_count": 4,
   "id": "3d55ce18",
   "metadata": {},
   "outputs": [
    {
     "data": {
      "text/html": [
       "<div>\n",
       "<style scoped>\n",
       "    .dataframe tbody tr th:only-of-type {\n",
       "        vertical-align: middle;\n",
       "    }\n",
       "\n",
       "    .dataframe tbody tr th {\n",
       "        vertical-align: top;\n",
       "    }\n",
       "\n",
       "    .dataframe thead th {\n",
       "        text-align: right;\n",
       "    }\n",
       "</style>\n",
       "<table border=\"1\" class=\"dataframe\">\n",
       "  <thead>\n",
       "    <tr style=\"text-align: right;\">\n",
       "      <th></th>\n",
       "      <th>Name</th>\n",
       "      <th>Email Address</th>\n",
       "      <th>Score</th>\n",
       "    </tr>\n",
       "  </thead>\n",
       "  <tbody>\n",
       "    <tr>\n",
       "      <th>0</th>\n",
       "      <td>NaN</td>\n",
       "      <td>NaN</td>\n",
       "      <td>34</td>\n",
       "    </tr>\n",
       "    <tr>\n",
       "      <th>1</th>\n",
       "      <td>Muhammad Zeeshan</td>\n",
       "      <td>zeeshanayaz1@gmail.com</td>\n",
       "      <td>36</td>\n",
       "    </tr>\n",
       "    <tr>\n",
       "      <th>2</th>\n",
       "      <td>hamza parekh</td>\n",
       "      <td>hamzakashifparekh2009@gmail.com</td>\n",
       "      <td>27</td>\n",
       "    </tr>\n",
       "    <tr>\n",
       "      <th>3</th>\n",
       "      <td>Muhammad Ahmed Muazan</td>\n",
       "      <td>muazanqureshi3@gmail.com</td>\n",
       "      <td>30</td>\n",
       "    </tr>\n",
       "    <tr>\n",
       "      <th>4</th>\n",
       "      <td>Sufyan Abdul Rahman</td>\n",
       "      <td>sufyan.abdulrahman55@gmail.com</td>\n",
       "      <td>35</td>\n",
       "    </tr>\n",
       "    <tr>\n",
       "      <th>...</th>\n",
       "      <td>...</td>\n",
       "      <td>...</td>\n",
       "      <td>...</td>\n",
       "    </tr>\n",
       "    <tr>\n",
       "      <th>129</th>\n",
       "      <td>Faiza noor</td>\n",
       "      <td>balochfaizan8989@gmail.com</td>\n",
       "      <td>29</td>\n",
       "    </tr>\n",
       "    <tr>\n",
       "      <th>130</th>\n",
       "      <td>Abdul Rehman</td>\n",
       "      <td>tygif397@gmail.com</td>\n",
       "      <td>36</td>\n",
       "    </tr>\n",
       "    <tr>\n",
       "      <th>131</th>\n",
       "      <td>Muhammad Sharjeel Mughal</td>\n",
       "      <td>mastermughal6969@gmail.com</td>\n",
       "      <td>33</td>\n",
       "    </tr>\n",
       "    <tr>\n",
       "      <th>132</th>\n",
       "      <td>Muhammad Hamza</td>\n",
       "      <td>hamzaazam2076@gmail.com</td>\n",
       "      <td>32</td>\n",
       "    </tr>\n",
       "    <tr>\n",
       "      <th>133</th>\n",
       "      <td>Hanzala jahangir</td>\n",
       "      <td>lyneskroff2189@gmail.com</td>\n",
       "      <td>26</td>\n",
       "    </tr>\n",
       "  </tbody>\n",
       "</table>\n",
       "<p>134 rows × 3 columns</p>\n",
       "</div>"
      ],
      "text/plain": [
       "                         Name                    Email Address  Score\n",
       "0                         NaN                              NaN     34\n",
       "1            Muhammad Zeeshan           zeeshanayaz1@gmail.com     36\n",
       "2                hamza parekh  hamzakashifparekh2009@gmail.com     27\n",
       "3       Muhammad Ahmed Muazan         muazanqureshi3@gmail.com     30\n",
       "4         Sufyan Abdul Rahman   sufyan.abdulrahman55@gmail.com     35\n",
       "..                        ...                              ...    ...\n",
       "129                Faiza noor       balochfaizan8989@gmail.com     29\n",
       "130             Abdul Rehman                tygif397@gmail.com     36\n",
       "131  Muhammad Sharjeel Mughal       mastermughal6969@gmail.com     33\n",
       "132            Muhammad Hamza          hamzaazam2076@gmail.com     32\n",
       "133          Hanzala jahangir         lyneskroff2189@gmail.com     26\n",
       "\n",
       "[134 rows x 3 columns]"
      ]
     },
     "execution_count": 4,
     "metadata": {},
     "output_type": "execute_result"
    }
   ],
   "source": []
  },
  {
   "cell_type": "code",
   "execution_count": 5,
   "id": "47a5db74",
   "metadata": {},
   "outputs": [],
   "source": [
    "result.to_excel(\"result.xlsx\")"
   ]
  },
  {
   "cell_type": "markdown",
   "id": "a2bd5f22",
   "metadata": {},
   "source": [
    "# List functions/Methods"
   ]
  },
  {
   "cell_type": "code",
   "execution_count": 6,
   "id": "b4f1da7d",
   "metadata": {},
   "outputs": [],
   "source": [
    "students = ['Ali', 'Basit','Kaleem', 'Nasir', 'Babar','Asif','Asad','Saad']"
   ]
  },
  {
   "cell_type": "markdown",
   "id": "59fc2ced",
   "metadata": {},
   "source": [
    "# Adding more memebers to an existing list\n",
    "   - append(): appends a member at very last \n",
    "   - insert(): insert a member at given index\n",
    "   - extend(): adds a collection to list\n",
    "   -      +  : concats to list\n",
    "   "
   ]
  },
  {
   "cell_type": "code",
   "execution_count": 7,
   "id": "d37cf53e",
   "metadata": {},
   "outputs": [],
   "source": [
    "# adds a single value or member in last of the list\n",
    "students.append(\"Rashid\")"
   ]
  },
  {
   "cell_type": "code",
   "execution_count": 8,
   "id": "6318e6db",
   "metadata": {},
   "outputs": [
    {
     "data": {
      "text/plain": [
       "['Ali', 'Basit', 'Kaleem', 'Nasir', 'Babar', 'Asif', 'Asad', 'Saad', 'Rashid']"
      ]
     },
     "execution_count": 8,
     "metadata": {},
     "output_type": "execute_result"
    }
   ],
   "source": [
    "students"
   ]
  },
  {
   "cell_type": "code",
   "execution_count": 9,
   "id": "a33f7891",
   "metadata": {},
   "outputs": [
    {
     "ename": "TypeError",
     "evalue": "list.append() takes exactly one argument (2 given)",
     "output_type": "error",
     "traceback": [
      "\u001b[1;31m---------------------------------------------------------------------------\u001b[0m",
      "\u001b[1;31mTypeError\u001b[0m                                 Traceback (most recent call last)",
      "Cell \u001b[1;32mIn[9], line 1\u001b[0m\n\u001b[1;32m----> 1\u001b[0m students\u001b[38;5;241m.\u001b[39mappend(\u001b[38;5;124m\"\u001b[39m\u001b[38;5;124mRashid\u001b[39m\u001b[38;5;124m\"\u001b[39m, \u001b[38;5;124m\"\u001b[39m\u001b[38;5;124mZahid\u001b[39m\u001b[38;5;124m\"\u001b[39m)\n",
      "\u001b[1;31mTypeError\u001b[0m: list.append() takes exactly one argument (2 given)"
     ]
    }
   ],
   "source": [
    "students.append(\"Rashid\", \"Zahid\")"
   ]
  },
  {
   "cell_type": "code",
   "execution_count": 10,
   "id": "f71990ca",
   "metadata": {},
   "outputs": [],
   "source": [
    "# add Majid on 3rd index\n",
    "students.insert(3,\"Majid\")"
   ]
  },
  {
   "cell_type": "code",
   "execution_count": 11,
   "id": "5dbfa918",
   "metadata": {},
   "outputs": [
    {
     "data": {
      "text/plain": [
       "['Ali',\n",
       " 'Basit',\n",
       " 'Kaleem',\n",
       " 'Majid',\n",
       " 'Nasir',\n",
       " 'Babar',\n",
       " 'Asif',\n",
       " 'Asad',\n",
       " 'Saad',\n",
       " 'Rashid']"
      ]
     },
     "execution_count": 11,
     "metadata": {},
     "output_type": "execute_result"
    }
   ],
   "source": [
    "students"
   ]
  },
  {
   "cell_type": "code",
   "execution_count": 14,
   "id": "3b19948d",
   "metadata": {},
   "outputs": [],
   "source": [
    "# add Majid on 100 index\n",
    "students.insert(100,\"Shani\")"
   ]
  },
  {
   "cell_type": "code",
   "execution_count": 15,
   "id": "9a98979b",
   "metadata": {},
   "outputs": [
    {
     "data": {
      "text/plain": [
       "['Ali',\n",
       " 'Basit',\n",
       " 'Kaleem',\n",
       " 'Sajid',\n",
       " 'Majid',\n",
       " 'Nasir',\n",
       " 'Babar',\n",
       " 'Asif',\n",
       " 'Asad',\n",
       " 'Saad',\n",
       " 'Rashid',\n",
       " 'Shani']"
      ]
     },
     "execution_count": 15,
     "metadata": {},
     "output_type": "execute_result"
    }
   ],
   "source": [
    "students"
   ]
  },
  {
   "cell_type": "code",
   "execution_count": 16,
   "id": "7bb91670",
   "metadata": {},
   "outputs": [],
   "source": [
    "staff = [\"wahid\", 'kamil', \"hammad\", \"munib\"]"
   ]
  },
  {
   "cell_type": "code",
   "execution_count": 17,
   "id": "483bafc3",
   "metadata": {},
   "outputs": [],
   "source": [
    "students.append(staff)"
   ]
  },
  {
   "cell_type": "code",
   "execution_count": 18,
   "id": "4e98822c",
   "metadata": {},
   "outputs": [
    {
     "data": {
      "text/plain": [
       "['Ali',\n",
       " 'Basit',\n",
       " 'Kaleem',\n",
       " 'Sajid',\n",
       " 'Majid',\n",
       " 'Nasir',\n",
       " 'Babar',\n",
       " 'Asif',\n",
       " 'Asad',\n",
       " 'Saad',\n",
       " 'Rashid',\n",
       " 'Shani',\n",
       " ['wahid', 'kamil', 'hammad', 'munib']]"
      ]
     },
     "execution_count": 18,
     "metadata": {},
     "output_type": "execute_result"
    }
   ],
   "source": [
    "students"
   ]
  },
  {
   "cell_type": "code",
   "execution_count": 19,
   "id": "26393107",
   "metadata": {},
   "outputs": [],
   "source": [
    "students.extend(staff)"
   ]
  },
  {
   "cell_type": "code",
   "execution_count": 20,
   "id": "f0800eeb",
   "metadata": {},
   "outputs": [
    {
     "data": {
      "text/plain": [
       "['Ali',\n",
       " 'Basit',\n",
       " 'Kaleem',\n",
       " 'Sajid',\n",
       " 'Majid',\n",
       " 'Nasir',\n",
       " 'Babar',\n",
       " 'Asif',\n",
       " 'Asad',\n",
       " 'Saad',\n",
       " 'Rashid',\n",
       " 'Shani',\n",
       " ['wahid', 'kamil', 'hammad', 'munib'],\n",
       " 'wahid',\n",
       " 'kamil',\n",
       " 'hammad',\n",
       " 'munib']"
      ]
     },
     "execution_count": 20,
     "metadata": {},
     "output_type": "execute_result"
    }
   ],
   "source": [
    "students"
   ]
  },
  {
   "cell_type": "code",
   "execution_count": 21,
   "id": "c3372907",
   "metadata": {},
   "outputs": [
    {
     "data": {
      "text/plain": [
       "['Ali',\n",
       " 'Basit',\n",
       " 'Kaleem',\n",
       " 'Sajid',\n",
       " 'Majid',\n",
       " 'Nasir',\n",
       " 'Babar',\n",
       " 'Asif',\n",
       " 'Asad',\n",
       " 'Saad',\n",
       " 'Rashid',\n",
       " 'Shani',\n",
       " ['wahid', 'kamil', 'hammad', 'munib'],\n",
       " 'wahid',\n",
       " 'kamil',\n",
       " 'hammad',\n",
       " 'munib',\n",
       " 'H',\n",
       " 'e',\n",
       " 'l',\n",
       " 'l',\n",
       " 'o']"
      ]
     },
     "execution_count": 21,
     "metadata": {},
     "output_type": "execute_result"
    }
   ],
   "source": [
    "students.extend(\"Hello\")\n",
    "students"
   ]
  },
  {
   "cell_type": "code",
   "execution_count": 23,
   "id": "c799a43f",
   "metadata": {},
   "outputs": [],
   "source": [
    "students.extend(\"100\")"
   ]
  },
  {
   "cell_type": "code",
   "execution_count": 24,
   "id": "339f7046",
   "metadata": {},
   "outputs": [
    {
     "data": {
      "text/plain": [
       "['Ali',\n",
       " 'Basit',\n",
       " 'Kaleem',\n",
       " 'Sajid',\n",
       " 'Majid',\n",
       " 'Nasir',\n",
       " 'Babar',\n",
       " 'Asif',\n",
       " 'Asad',\n",
       " 'Saad',\n",
       " 'Rashid',\n",
       " 'Shani',\n",
       " ['wahid', 'kamil', 'hammad', 'munib'],\n",
       " 'wahid',\n",
       " 'kamil',\n",
       " 'hammad',\n",
       " 'munib',\n",
       " 'H',\n",
       " 'e',\n",
       " 'l',\n",
       " 'l',\n",
       " 'o',\n",
       " '1',\n",
       " '0',\n",
       " '0']"
      ]
     },
     "execution_count": 24,
     "metadata": {},
     "output_type": "execute_result"
    }
   ],
   "source": [
    "students"
   ]
  },
  {
   "cell_type": "code",
   "execution_count": 25,
   "id": "7ae9ba67",
   "metadata": {},
   "outputs": [],
   "source": [
    "students.extend(\"1\")"
   ]
  },
  {
   "cell_type": "code",
   "execution_count": 26,
   "id": "81b1ec7f",
   "metadata": {},
   "outputs": [
    {
     "data": {
      "text/plain": [
       "['Ali',\n",
       " 'Basit',\n",
       " 'Kaleem',\n",
       " 'Sajid',\n",
       " 'Majid',\n",
       " 'Nasir',\n",
       " 'Babar',\n",
       " 'Asif',\n",
       " 'Asad',\n",
       " 'Saad',\n",
       " 'Rashid',\n",
       " 'Shani',\n",
       " ['wahid', 'kamil', 'hammad', 'munib'],\n",
       " 'wahid',\n",
       " 'kamil',\n",
       " 'hammad',\n",
       " 'munib',\n",
       " 'H',\n",
       " 'e',\n",
       " 'l',\n",
       " 'l',\n",
       " 'o',\n",
       " '1',\n",
       " '0',\n",
       " '0',\n",
       " '1']"
      ]
     },
     "execution_count": 26,
     "metadata": {},
     "output_type": "execute_result"
    }
   ],
   "source": [
    "students"
   ]
  },
  {
   "cell_type": "code",
   "execution_count": 27,
   "id": "c880d0fb",
   "metadata": {},
   "outputs": [
    {
     "data": {
      "text/plain": [
       "['Ali',\n",
       " 'Basit',\n",
       " 'Kaleem',\n",
       " 'Sajid',\n",
       " 'Majid',\n",
       " 'Nasir',\n",
       " 'Babar',\n",
       " 'Asif',\n",
       " 'Asad',\n",
       " 'Saad',\n",
       " 'Rashid',\n",
       " 'Shani',\n",
       " ['wahid', 'kamil', 'hammad', 'munib'],\n",
       " 'wahid',\n",
       " 'kamil',\n",
       " 'hammad',\n",
       " 'munib',\n",
       " 'H',\n",
       " 'e',\n",
       " 'l',\n",
       " 'l',\n",
       " 'o',\n",
       " '1',\n",
       " '0',\n",
       " '0',\n",
       " '1',\n",
       " 'wahid',\n",
       " 'kamil',\n",
       " 'hammad',\n",
       " 'munib']"
      ]
     },
     "execution_count": 27,
     "metadata": {},
     "output_type": "execute_result"
    }
   ],
   "source": [
    "students + staff"
   ]
  },
  {
   "cell_type": "code",
   "execution_count": 28,
   "id": "e529a2e0",
   "metadata": {},
   "outputs": [
    {
     "data": {
      "text/plain": [
       "['wahid', 'kamil', 'hammad', 'munib']"
      ]
     },
     "execution_count": 28,
     "metadata": {},
     "output_type": "execute_result"
    }
   ],
   "source": [
    "staff"
   ]
  },
  {
   "cell_type": "markdown",
   "id": "faa221d2",
   "metadata": {},
   "source": [
    "# Deleting a member from existin list\n",
    "  - del statement deletes parmanently via index\n",
    "  - remove():  deletes parmanently via value\n",
    "  - pop():    deletes parmanently from last index\n",
    "   \n",
    "              can delete a member from given index\n",
    "              \n",
    "              it returns deleted \n",
    "   - clear()"
   ]
  },
  {
   "cell_type": "code",
   "execution_count": 33,
   "id": "520082ed",
   "metadata": {},
   "outputs": [
    {
     "data": {
      "text/plain": [
       "['Ali',\n",
       " 'Basit',\n",
       " 'Kaleem',\n",
       " 'Sajid',\n",
       " 'Majid',\n",
       " 'Nasir',\n",
       " 'Babar',\n",
       " 'Asif',\n",
       " 'Asad',\n",
       " 'Saad',\n",
       " 'Rashid',\n",
       " 'Shani',\n",
       " ['wahid', 'kamil', 'hammad', 'munib'],\n",
       " 'wahid',\n",
       " 'kamil',\n",
       " 'hammad',\n",
       " 'munib',\n",
       " 'H',\n",
       " 'e',\n",
       " 'l',\n",
       " 'l',\n",
       " 'o',\n",
       " '1',\n",
       " '0',\n",
       " '0',\n",
       " '1']"
      ]
     },
     "execution_count": 33,
     "metadata": {},
     "output_type": "execute_result"
    }
   ],
   "source": [
    "students"
   ]
  },
  {
   "cell_type": "code",
   "execution_count": 34,
   "id": "d431be54",
   "metadata": {},
   "outputs": [
    {
     "data": {
      "text/plain": [
       "['Ali',\n",
       " 'Basit',\n",
       " 'Kaleem',\n",
       " 'Sajid',\n",
       " 'Majid',\n",
       " 'Nasir',\n",
       " 'Babar',\n",
       " 'Asif',\n",
       " 'Asad',\n",
       " 'Saad',\n",
       " 'Rashid',\n",
       " 'Shani',\n",
       " 'wahid',\n",
       " 'kamil',\n",
       " 'hammad',\n",
       " 'munib',\n",
       " 'H',\n",
       " 'e',\n",
       " 'l',\n",
       " 'l',\n",
       " 'o',\n",
       " '1',\n",
       " '0',\n",
       " '0',\n",
       " '1']"
      ]
     },
     "execution_count": 34,
     "metadata": {},
     "output_type": "execute_result"
    }
   ],
   "source": [
    "del students[12]\n",
    "students"
   ]
  },
  {
   "cell_type": "code",
   "execution_count": 35,
   "id": "17a0b5f4",
   "metadata": {},
   "outputs": [
    {
     "data": {
      "text/plain": [
       "['Ali',\n",
       " 'Basit',\n",
       " 'Kaleem',\n",
       " 'Sajid',\n",
       " 'Majid',\n",
       " 'Nasir',\n",
       " 'Babar',\n",
       " 'Asif',\n",
       " 'Asad',\n",
       " 'Saad',\n",
       " 'Shani',\n",
       " 'wahid',\n",
       " 'kamil',\n",
       " 'hammad',\n",
       " 'munib',\n",
       " 'H',\n",
       " 'e',\n",
       " 'l',\n",
       " 'l',\n",
       " 'o',\n",
       " '1',\n",
       " '0',\n",
       " '0',\n",
       " '1']"
      ]
     },
     "execution_count": 35,
     "metadata": {},
     "output_type": "execute_result"
    }
   ],
   "source": [
    "del students[10]\n",
    "students"
   ]
  },
  {
   "cell_type": "code",
   "execution_count": 36,
   "id": "88cd97d6",
   "metadata": {},
   "outputs": [],
   "source": [
    "students.remove('o')"
   ]
  },
  {
   "cell_type": "code",
   "execution_count": 38,
   "id": "f099dd9c",
   "metadata": {},
   "outputs": [],
   "source": [
    "students.remove('0')"
   ]
  },
  {
   "cell_type": "code",
   "execution_count": 39,
   "id": "c8166fa2",
   "metadata": {},
   "outputs": [
    {
     "ename": "ValueError",
     "evalue": "list.remove(x): x not in list",
     "output_type": "error",
     "traceback": [
      "\u001b[1;31m---------------------------------------------------------------------------\u001b[0m",
      "\u001b[1;31mValueError\u001b[0m                                Traceback (most recent call last)",
      "Cell \u001b[1;32mIn[39], line 1\u001b[0m\n\u001b[1;32m----> 1\u001b[0m students\u001b[38;5;241m.\u001b[39mremove(\u001b[38;5;124m'\u001b[39m\u001b[38;5;124mhello\u001b[39m\u001b[38;5;124m'\u001b[39m)\n",
      "\u001b[1;31mValueError\u001b[0m: list.remove(x): x not in list"
     ]
    }
   ],
   "source": [
    "students.remove('hello')"
   ]
  },
  {
   "cell_type": "code",
   "execution_count": 41,
   "id": "f4d01f63",
   "metadata": {},
   "outputs": [
    {
     "name": "stdout",
     "output_type": "stream",
     "text": [
      "['Ali', 'Basit', 'Kaleem', 'Sajid', 'Majid', 'Nasir', 'Babar', 'Asif', 'Asad', 'Saad', 'Shani', 'wahid', 'kamil', 'hammad', 'munib', 'H', 'e', 'l', 'l', '1']\n"
     ]
    },
    {
     "data": {
      "text/plain": [
       "['Ali',\n",
       " 'Basit',\n",
       " 'Kaleem',\n",
       " 'Sajid',\n",
       " 'Majid',\n",
       " 'Nasir',\n",
       " 'Babar',\n",
       " 'Asif',\n",
       " 'Asad',\n",
       " 'Saad',\n",
       " 'Shani',\n",
       " 'wahid',\n",
       " 'kamil',\n",
       " 'hammad',\n",
       " 'munib',\n",
       " 'H',\n",
       " 'e',\n",
       " 'l',\n",
       " 'l']"
      ]
     },
     "execution_count": 41,
     "metadata": {},
     "output_type": "execute_result"
    }
   ],
   "source": [
    "print(students)\n",
    "students.pop()\n",
    "students"
   ]
  },
  {
   "cell_type": "code",
   "execution_count": 42,
   "id": "690092ca",
   "metadata": {},
   "outputs": [],
   "source": [
    "students = ['Ali', 'Basit', 'Kaleem', 'Sajid', 'Majid', 'Nasir', 'Babar', 'Asif', 'Asad']"
   ]
  },
  {
   "cell_type": "code",
   "execution_count": 44,
   "id": "9d020764",
   "metadata": {},
   "outputs": [],
   "source": [
    "deleted_values =  students.pop()"
   ]
  },
  {
   "cell_type": "code",
   "execution_count": 45,
   "id": "4a6eb04b",
   "metadata": {},
   "outputs": [
    {
     "data": {
      "text/plain": [
       "'Asif'"
      ]
     },
     "execution_count": 45,
     "metadata": {},
     "output_type": "execute_result"
    }
   ],
   "source": [
    "deleted_values"
   ]
  },
  {
   "cell_type": "code",
   "execution_count": 46,
   "id": "27ada840",
   "metadata": {},
   "outputs": [],
   "source": [
    "deleted_values =  students.pop(5)"
   ]
  },
  {
   "cell_type": "code",
   "execution_count": 47,
   "id": "7c012009",
   "metadata": {},
   "outputs": [
    {
     "data": {
      "text/plain": [
       "'Nasir'"
      ]
     },
     "execution_count": 47,
     "metadata": {},
     "output_type": "execute_result"
    }
   ],
   "source": [
    "deleted_values"
   ]
  },
  {
   "cell_type": "code",
   "execution_count": 48,
   "id": "10f1c4ac",
   "metadata": {},
   "outputs": [
    {
     "data": {
      "text/plain": [
       "['Ali', 'Basit', 'Kaleem', 'Sajid', 'Majid', 'Babar']"
      ]
     },
     "execution_count": 48,
     "metadata": {},
     "output_type": "execute_result"
    }
   ],
   "source": [
    "students"
   ]
  },
  {
   "cell_type": "code",
   "execution_count": 49,
   "id": "77382947",
   "metadata": {},
   "outputs": [
    {
     "data": {
      "text/plain": [
       "['Ali', 'Basit', 'Kaleem']"
      ]
     },
     "execution_count": 49,
     "metadata": {},
     "output_type": "execute_result"
    }
   ],
   "source": [
    "del students[3:6]\n",
    "students"
   ]
  },
  {
   "cell_type": "code",
   "execution_count": 50,
   "id": "9b3bf15c",
   "metadata": {},
   "outputs": [],
   "source": [
    "students.clear()"
   ]
  },
  {
   "cell_type": "code",
   "execution_count": 51,
   "id": "e5afdcf2",
   "metadata": {},
   "outputs": [
    {
     "data": {
      "text/plain": [
       "[]"
      ]
     },
     "execution_count": 51,
     "metadata": {},
     "output_type": "execute_result"
    }
   ],
   "source": [
    "students"
   ]
  },
  {
   "cell_type": "code",
   "execution_count": 52,
   "id": "7d47157a",
   "metadata": {},
   "outputs": [
    {
     "ename": "ValueError",
     "evalue": "'hamid' is not in list",
     "output_type": "error",
     "traceback": [
      "\u001b[1;31m---------------------------------------------------------------------------\u001b[0m",
      "\u001b[1;31mValueError\u001b[0m                                Traceback (most recent call last)",
      "Cell \u001b[1;32mIn[52], line 1\u001b[0m\n\u001b[1;32m----> 1\u001b[0m students\u001b[38;5;241m.\u001b[39mindex(\u001b[38;5;124m\"\u001b[39m\u001b[38;5;124mhamid\u001b[39m\u001b[38;5;124m\"\u001b[39m)\n",
      "\u001b[1;31mValueError\u001b[0m: 'hamid' is not in list"
     ]
    }
   ],
   "source": [
    "students.index(\"hamid\")"
   ]
  },
  {
   "cell_type": "code",
   "execution_count": 53,
   "id": "bdfd77f7",
   "metadata": {},
   "outputs": [
    {
     "data": {
      "text/plain": [
       "['2', 'a', 'b', '5', 'h']"
      ]
     },
     "execution_count": 53,
     "metadata": {},
     "output_type": "execute_result"
    }
   ],
   "source": [
    "students.extend('2ab5h')\n",
    "students"
   ]
  },
  {
   "cell_type": "code",
   "execution_count": 54,
   "id": "8f1e04f4",
   "metadata": {},
   "outputs": [],
   "source": [
    "students.sort()"
   ]
  },
  {
   "cell_type": "code",
   "execution_count": 55,
   "id": "e02fcfe1",
   "metadata": {},
   "outputs": [
    {
     "data": {
      "text/plain": [
       "['2', '5', 'a', 'b', 'h']"
      ]
     },
     "execution_count": 55,
     "metadata": {},
     "output_type": "execute_result"
    }
   ],
   "source": [
    "students"
   ]
  },
  {
   "cell_type": "code",
   "execution_count": 58,
   "id": "714dcb63",
   "metadata": {},
   "outputs": [
    {
     "data": {
      "text/plain": [
       "'c'"
      ]
     },
     "execution_count": 58,
     "metadata": {},
     "output_type": "execute_result"
    }
   ],
   "source": [
    "chr(99)"
   ]
  },
  {
   "cell_type": "code",
   "execution_count": 59,
   "id": "d90da3d5",
   "metadata": {},
   "outputs": [
    {
     "data": {
      "text/plain": [
       "99"
      ]
     },
     "execution_count": 59,
     "metadata": {},
     "output_type": "execute_result"
    }
   ],
   "source": [
    "ord('c')"
   ]
  },
  {
   "cell_type": "code",
   "execution_count": 60,
   "id": "945edbdc",
   "metadata": {},
   "outputs": [],
   "source": [
    "students.append(100)"
   ]
  },
  {
   "cell_type": "code",
   "execution_count": 61,
   "id": "434e462e",
   "metadata": {},
   "outputs": [],
   "source": [
    "students.insert(3,200)"
   ]
  },
  {
   "cell_type": "code",
   "execution_count": 62,
   "id": "cac12077",
   "metadata": {},
   "outputs": [
    {
     "data": {
      "text/plain": [
       "['2', '5', 'a', 200, 'b', 'h', 100]"
      ]
     },
     "execution_count": 62,
     "metadata": {},
     "output_type": "execute_result"
    }
   ],
   "source": [
    "students"
   ]
  },
  {
   "cell_type": "code",
   "execution_count": 64,
   "id": "75ac908c",
   "metadata": {},
   "outputs": [
    {
     "ename": "TypeError",
     "evalue": "'<' not supported between instances of 'int' and 'str'",
     "output_type": "error",
     "traceback": [
      "\u001b[1;31m---------------------------------------------------------------------------\u001b[0m",
      "\u001b[1;31mTypeError\u001b[0m                                 Traceback (most recent call last)",
      "Cell \u001b[1;32mIn[64], line 1\u001b[0m\n\u001b[1;32m----> 1\u001b[0m students\u001b[38;5;241m.\u001b[39msort()\n",
      "\u001b[1;31mTypeError\u001b[0m: '<' not supported between instances of 'int' and 'str'"
     ]
    }
   ],
   "source": [
    "students.sort()"
   ]
  },
  {
   "cell_type": "code",
   "execution_count": 65,
   "id": "cbf5d3ee",
   "metadata": {},
   "outputs": [],
   "source": [
    "students.reverse()"
   ]
  },
  {
   "cell_type": "code",
   "execution_count": 66,
   "id": "6f48b088",
   "metadata": {},
   "outputs": [
    {
     "data": {
      "text/plain": [
       "[100, 'h', 'b', 200, 'a', '5', '2']"
      ]
     },
     "execution_count": 66,
     "metadata": {},
     "output_type": "execute_result"
    }
   ],
   "source": [
    "students"
   ]
  },
  {
   "cell_type": "code",
   "execution_count": 67,
   "id": "f65317f6",
   "metadata": {},
   "outputs": [],
   "source": [
    "new_students = students.copy()"
   ]
  },
  {
   "cell_type": "code",
   "execution_count": 68,
   "id": "f43e342c",
   "metadata": {},
   "outputs": [
    {
     "data": {
      "text/plain": [
       "[100, 'h', 'b', 200, 'a', '5', '2']"
      ]
     },
     "execution_count": 68,
     "metadata": {},
     "output_type": "execute_result"
    }
   ],
   "source": [
    "new_students"
   ]
  },
  {
   "cell_type": "code",
   "execution_count": 69,
   "id": "871753e7",
   "metadata": {},
   "outputs": [],
   "source": [
    "old_students = students"
   ]
  },
  {
   "cell_type": "code",
   "execution_count": 70,
   "id": "baac4737",
   "metadata": {},
   "outputs": [
    {
     "data": {
      "text/plain": [
       "[100, 'h', 'b', 200, 'a', '5', '2']"
      ]
     },
     "execution_count": 70,
     "metadata": {},
     "output_type": "execute_result"
    }
   ],
   "source": [
    "old_students"
   ]
  },
  {
   "cell_type": "markdown",
   "id": "75ff2dfd",
   "metadata": {},
   "source": [
    "# Pass by Value and Pass by reference (deep copy and shaLLOW COPY)"
   ]
  },
  {
   "cell_type": "code",
   "execution_count": 71,
   "id": "c0408aae",
   "metadata": {},
   "outputs": [
    {
     "data": {
      "text/plain": [
       "[100, 'h', 'b', 200, 'a', '5', '2']"
      ]
     },
     "execution_count": 71,
     "metadata": {},
     "output_type": "execute_result"
    }
   ],
   "source": [
    "students"
   ]
  },
  {
   "cell_type": "code",
   "execution_count": 72,
   "id": "19fa3cc1",
   "metadata": {},
   "outputs": [
    {
     "data": {
      "text/plain": [
       "[100, 'h', 'b', 'a', '5', '2']"
      ]
     },
     "execution_count": 72,
     "metadata": {},
     "output_type": "execute_result"
    }
   ],
   "source": [
    "del students[3]\n",
    "students"
   ]
  },
  {
   "cell_type": "code",
   "execution_count": 73,
   "id": "0437eb02",
   "metadata": {},
   "outputs": [
    {
     "data": {
      "text/plain": [
       "[100, 'h', 'b', 'a', '5', '2']"
      ]
     },
     "execution_count": 73,
     "metadata": {},
     "output_type": "execute_result"
    }
   ],
   "source": [
    "old_students"
   ]
  },
  {
   "cell_type": "code",
   "execution_count": 74,
   "id": "1f371007",
   "metadata": {},
   "outputs": [
    {
     "data": {
      "text/plain": [
       "2554048404416"
      ]
     },
     "execution_count": 74,
     "metadata": {},
     "output_type": "execute_result"
    }
   ],
   "source": [
    "id(old_students)"
   ]
  },
  {
   "cell_type": "code",
   "execution_count": 75,
   "id": "1ffc62b3",
   "metadata": {},
   "outputs": [
    {
     "data": {
      "text/plain": [
       "2554048404416"
      ]
     },
     "execution_count": 75,
     "metadata": {},
     "output_type": "execute_result"
    }
   ],
   "source": [
    "id(students)"
   ]
  },
  {
   "cell_type": "code",
   "execution_count": 76,
   "id": "fb834fe0",
   "metadata": {},
   "outputs": [
    {
     "data": {
      "text/plain": [
       "[100, 'h', 'b', 200, 'a', '5', '2']"
      ]
     },
     "execution_count": 76,
     "metadata": {},
     "output_type": "execute_result"
    }
   ],
   "source": [
    "new_students"
   ]
  },
  {
   "cell_type": "code",
   "execution_count": null,
   "id": "41fbd9af",
   "metadata": {},
   "outputs": [],
   "source": []
  }
 ],
 "metadata": {
  "kernelspec": {
   "display_name": "Python 3 (ipykernel)",
   "language": "python",
   "name": "python3"
  },
  "language_info": {
   "codemirror_mode": {
    "name": "ipython",
    "version": 3
   },
   "file_extension": ".py",
   "mimetype": "text/x-python",
   "name": "python",
   "nbconvert_exporter": "python",
   "pygments_lexer": "ipython3",
   "version": "3.11.5"
  }
 },
 "nbformat": 4,
 "nbformat_minor": 5
}
