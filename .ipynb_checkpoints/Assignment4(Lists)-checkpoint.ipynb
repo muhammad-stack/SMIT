{
 "cells": [
  {
   "cell_type": "markdown",
   "id": "2bf89dc7-4d3b-49ac-804d-e3c7afcb029a",
   "metadata": {},
   "source": [
    "1. Write a program that accepts a list from user and print the alternate element of list."
   ]
  },
  {
   "cell_type": "code",
   "execution_count": 1,
   "id": "ab38c072-1c76-4e5f-b4e6-60920ff98d4c",
   "metadata": {},
   "outputs": [
    {
     "name": "stdin",
     "output_type": "stream",
     "text": [
      "Enter the list you want to add ..  huefg,uceeyge\n"
     ]
    },
    {
     "name": "stdout",
     "output_type": "stream",
     "text": [
      "huefg\n",
      "uceeyge\n"
     ]
    }
   ],
   "source": [
    "list_input = input(\"Enter the list you want to add .. \").split(',')\n",
    "\n",
    "for i in list_input:\n",
    "    print(i)"
   ]
  },
  {
   "cell_type": "markdown",
   "id": "294859c3-d06a-4e49-8489-016fd652dd3d",
   "metadata": {},
   "source": [
    "2. Write a program that accepts a list from user. Your program should reverse the content of list and\n",
    "display it. Do not use reverse() method."
   ]
  },
  {
   "cell_type": "code",
   "execution_count": 2,
   "id": "0805a46e-6001-4cb5-8800-d350f705cf17",
   "metadata": {},
   "outputs": [
    {
     "name": "stdin",
     "output_type": "stream",
     "text": [
      "Enter the list items you want to add ..  huefg,uceeyge\n"
     ]
    },
    {
     "name": "stdout",
     "output_type": "stream",
     "text": [
      "uceeyge\n",
      "huefg\n"
     ]
    }
   ],
   "source": [
    "list_input = input(\"Enter the list items you want to add .. \").split(',')\n",
    "\n",
    "for i in list_input[::-1]:\n",
    "    print(i)"
   ]
  },
  {
   "cell_type": "markdown",
   "id": "2ff1b8b7-b0c7-4d08-8f8e-53b97241407a",
   "metadata": {},
   "source": [
    "3. Find and display the largest number of a list without using built-in function max(). Your program\n",
    "should ask the user to input values in list from keyboard."
   ]
  },
  {
   "cell_type": "code",
   "execution_count": 5,
   "id": "06810280-5bf3-42be-abbb-4667f901d2f8",
   "metadata": {},
   "outputs": [
    {
     "name": "stdin",
     "output_type": "stream",
     "text": [
      "Enter the list items you want to add please specify gap in between  12 13 19 80\n"
     ]
    },
    {
     "name": "stdout",
     "output_type": "stream",
     "text": [
      "13\n",
      "19\n",
      "80\n",
      "80\n"
     ]
    }
   ],
   "source": [
    "list_input = list(map(int , input(\"Enter the list items you want to add please specify gap in between \").split(' ')))\n",
    "\n",
    "largest_number = list_input[0] \n",
    "\n",
    "for i in list_input:\n",
    "    if i > largest_number:\n",
    "        largest_number = i\n",
    "print(largest_number)"
   ]
  },
  {
   "cell_type": "markdown",
   "id": "ec8172c6-76ae-4629-ad57-b82648eaf1d4",
   "metadata": {},
   "source": [
    "4. Write a program that rotates the element of a list so that the element at the first index moves to the\n",
    "second index, the element in the second index moves to the third index, etc., and the element in the last\n",
    "index moves to the first index."
   ]
  },
  {
   "cell_type": "code",
   "execution_count": 19,
   "id": "90ffbfad-3cbd-4093-bebf-72ffd5549110",
   "metadata": {},
   "outputs": [
    {
     "name": "stdin",
     "output_type": "stream",
     "text": [
      "Enter the list of items you wanna add the values should be comma seprated Ahmed , Ali , Sarfraz\n"
     ]
    },
    {
     "name": "stdout",
     "output_type": "stream",
     "text": [
      "The rotated list is  [' Sarfraz', 'Ahmed ', ' Ali ']\n"
     ]
    }
   ],
   "source": [
    "user_list = input(\"Enter the list of items you wanna add the values should be comma seprated\").split(',')\n",
    "\n",
    "rotated_list = user_list[-1:] + user_list[:-1]\n",
    "# This is showed by the example\n",
    "\"\"\"  For e.g we have two list l1 =  [1,23,4]  if we firstly slice l1 to l1[-1:] and l1[:-1] this will result in \n",
    "    [4] and [1,23] and if we add it then it will become [4,1,23]\n",
    "    which means last at first first at second and second at third\n",
    "\"\"\"\n",
    "\n",
    "print(\"The rotated list is \",rotated_list)"
   ]
  }
 ],
 "metadata": {
  "kernelspec": {
   "display_name": "Python 3 (ipykernel)",
   "language": "python",
   "name": "python3"
  },
  "language_info": {
   "codemirror_mode": {
    "name": "ipython",
    "version": 3
   },
   "file_extension": ".py",
   "mimetype": "text/x-python",
   "name": "python",
   "nbconvert_exporter": "python",
   "pygments_lexer": "ipython3",
   "version": "3.12.7"
  }
 },
 "nbformat": 4,
 "nbformat_minor": 5
}
