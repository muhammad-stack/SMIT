{
 "cells": [
  {
   "cell_type": "code",
   "execution_count": 70,
   "metadata": {},
   "outputs": [],
   "source": [
    "TRANSACTION_FILE = \"transactions.txt\"\n",
    "\n",
    "def create_account():\n",
    "    print(\"Welcome to the Banking System\")\n",
    "    \"\"\"Creates a new account with a name and initializes balance and transactions.\"\"\"\n",
    "    name = input(\"Enter your name: \").strip().lower()\n",
    "    account = {\"name\": name, \"balance\": 0.0, \"transactions\": []}\n",
    "    print(f\"Account for {name} created with balance ${account['balance']:.2f}.\")\n",
    "    return account\n"
   ]
  },
  {
   "cell_type": "code",
   "execution_count": 78,
   "metadata": {},
   "outputs": [],
   "source": [
    "\n",
    "def deposit(account,amount):\n",
    "    \n",
    "    \"\"\"Deposits money into the account and records the transaction.\"\"\"\n",
    "    try:\n",
    "        amount = float(amount)  # Typecasting to float\n",
    "        if amount <= 0:\n",
    "            print(\"Deposit amount must be positive.\")\n",
    "            return account\n",
    "        account[\"balance\"] += amount\n",
    "        record_transaction(account[\"name\"], f\"Deposit: ${amount:.2f}. New Balance: ${account['balance']:.2f}\")\n",
    "        print(f\"{account['name']} deposited ${amount:.2f}. New balance: ${account['balance']:.2f}.\")\n",
    "    except ValueError:\n",
    "        print(\"Invalid amount. Please enter a number.\")\n",
    "    return account\n"
   ]
  },
  {
   "cell_type": "code",
   "execution_count": 79,
   "metadata": {},
   "outputs": [],
   "source": [
    "\n",
    "def withdraw(account,amount):\n",
    "    \"\"\"Withdraws money from the account if sufficient balance is available.\"\"\"\n",
    "    try:\n",
    "        amount = float(amount)  # Typecasting to float\n",
    "        if amount <= 0:\n",
    "            print(\"Withdrawal amount must be positive.\")\n",
    "            return account\n",
    "        if account[\"balance\"] < amount:\n",
    "            print(\"Insufficient balance.\")\n",
    "            return account\n",
    "        account[\"balance\"] -= amount\n",
    "        record_transaction(account[\"name\"], f\"Withdrawal: ${amount:.2f}. New Balance: ${account['balance']:.2f}\")\n",
    "        print(f\"{account['name']} withdrew ${amount:.2f}. New balance: ${account['balance']:.2f}.\")\n",
    "    except ValueError:\n",
    "        print(\"Invalid amount. Please enter a number.\")\n",
    "    return account\n"
   ]
  },
  {
   "cell_type": "code",
   "execution_count": 80,
   "metadata": {},
   "outputs": [],
   "source": [
    "\n",
    "def check_balance(account):\n",
    "    \"\"\"Displays the current balance.\"\"\"\n",
    "    print(f\"{account['name']}'s balance: ${account['balance']:.2f}.\")\n",
    "    return account[\"balance\"]\n"
   ]
  },
  {
   "cell_type": "code",
   "execution_count": 81,
   "metadata": {},
   "outputs": [],
   "source": [
    "\n",
    "def print_statement(account):\n",
    "    \"\"\"Prints all transactions from the file for the user.\"\"\"\n",
    "    print(f\"Account statement for {account['name']}:\")\n",
    "    with open(TRANSACTION_FILE, \"r\") as file:\n",
    "        for line in file:\n",
    "            if line.startswith(account[\"name\"]):\n",
    "                print(line.strip())\n"
   ]
  },
  {
   "cell_type": "code",
   "execution_count": 82,
   "metadata": {},
   "outputs": [],
   "source": [
    "\n",
    "def record_transaction(name, transaction):\n",
    "    \"\"\"Records a transaction in the transaction file.\"\"\"\n",
    "    with open(TRANSACTION_FILE, \"a\") as file:\n",
    "        file.write(f\"{name}: {transaction}\\n\")\n",
    "\n"
   ]
  },
  {
   "cell_type": "code",
   "execution_count": 84,
   "metadata": {},
   "outputs": [
    {
     "name": "stdout",
     "output_type": "stream",
     "text": [
      "Account for land created with balance $0.00.\n",
      "\n",
      "Choose an option:\n",
      "1. Deposit Money\n",
      "2. Withdraw Money\n",
      "3. Check Balance\n",
      "4. Print Statement\n",
      "5. Exit\n",
      "Invalid choice. Please select a valid option.\n",
      "\n",
      "Choose an option:\n",
      "1. Deposit Money\n",
      "2. Withdraw Money\n",
      "3. Check Balance\n",
      "4. Print Statement\n",
      "5. Exit\n",
      "Invalid choice. Please select a valid option.\n",
      "\n",
      "Choose an option:\n",
      "1. Deposit Money\n",
      "2. Withdraw Money\n",
      "3. Check Balance\n",
      "4. Print Statement\n",
      "5. Exit\n",
      "Thank you for using the Banking System!\n"
     ]
    }
   ],
   "source": [
    "\n",
    "account = create_account()\n",
    "    \n",
    "while True:\n",
    "    print(\"\\nChoose an option:\")\n",
    "    print(\"1. Deposit Money\")\n",
    "    print(\"2. Withdraw Money\")\n",
    "    print(\"3. Check Balance\")\n",
    "    print(\"4. Print Statement\")\n",
    "    print(\"5. Exit\")\n",
    "    \n",
    "    choice = input(\"Enter your choice (1-5): \").strip()\n",
    "    if choice == \"1\":\n",
    "        amount = input(\"Enter the amount to deposit: \").strip()\n",
    "        deposit(account, amount)\n",
    "    elif choice == \"2\":\n",
    "        amount = input(\"Enter the amount to withdraw: \").strip()\n",
    "        withdraw(account, amount)\n",
    "    elif choice == \"3\":\n",
    "        check_balance(account)\n",
    "    elif choice == \"4\":\n",
    "        print_statement(account)\n",
    "    elif choice == \"5\":\n",
    "        print(\"Thank you for using the Banking System!\")\n",
    "        break\n",
    "    else:\n",
    "        print(\"Invalid choice. Please select a valid option.\")\n"
   ]
  },
  {
   "cell_type": "code",
   "execution_count": null,
   "metadata": {},
   "outputs": [],
   "source": []
  }
 ],
 "metadata": {
  "kernelspec": {
   "display_name": "smit-env",
   "language": "python",
   "name": "python3"
  },
  "language_info": {
   "codemirror_mode": {
    "name": "ipython",
    "version": 3
   },
   "file_extension": ".py",
   "mimetype": "text/x-python",
   "name": "python",
   "nbconvert_exporter": "python",
   "pygments_lexer": "ipython3",
   "version": "3.12.8"
  }
 },
 "nbformat": 4,
 "nbformat_minor": 2
}
