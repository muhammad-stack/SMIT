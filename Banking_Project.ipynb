{
 "cells": [
  {
   "cell_type": "code",
   "execution_count": 3,
   "metadata": {},
   "outputs": [
    {
     "name": "stdout",
     "output_type": "stream",
     "text": [
      "Welcome to the bank account creation page\n",
      "{'name': 'Ali', 'balance': 0, 'transactions': []}\n",
      "Account created successfully\n"
     ]
    }
   ],
   "source": [
    "# Step-1 (Create an bank account function)\n",
    "from typing import Dict\n",
    "\n",
    "users_dict : Dict[str , list | str | int]   = {}\n",
    "def create_bank_account():\n",
    "    print(\"Welcome to the bank account creation page\")\n",
    "    name = input(\"Enter your name: \")\n",
    "    users_dict[\"name\"] = name\n",
    "    users_dict[\"balance\"] = 0\n",
    "    users_dict[\"transactions\"] = []\n",
    "    print(users_dict)\n",
    "\n",
    "    print(\"Account created successfully\")\n",
    "\n",
    "\n",
    "create_bank_account()\n"
   ]
  },
  {
   "cell_type": "code",
   "execution_count": null,
   "metadata": {},
   "outputs": [],
   "source": [
    "# Step-2 (Create a function to deposit money)\n",
    "from typing import Dict , Any\n",
    "\n",
    "def deposit_money(users_dict : Dict[str ,Any ] ,amount):\n",
    "    users_dict[\"balance\"] += amount\n",
    "    users_dict[\"transactions\"].append(f\"You deposited ${amount}\")\n",
    "\n",
    "    with open(\"transactions.txt\",\"r+\")\n"
   ]
  }
 ],
 "metadata": {
  "kernelspec": {
   "display_name": "smit-env",
   "language": "python",
   "name": "python3"
  },
  "language_info": {
   "codemirror_mode": {
    "name": "ipython",
    "version": 3
   },
   "file_extension": ".py",
   "mimetype": "text/x-python",
   "name": "python",
   "nbconvert_exporter": "python",
   "pygments_lexer": "ipython3",
   "version": "3.12.8"
  }
 },
 "nbformat": 4,
 "nbformat_minor": 2
}
