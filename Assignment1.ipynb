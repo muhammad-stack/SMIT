{
  "cells": [
    {
      "cell_type": "markdown",
      "metadata": {
        "id": "CUdxU51J52Jc"
      },
      "source": [
        "# Topic: print()"
      ]
    },
    {
      "cell_type": "markdown",
      "metadata": {
        "id": "O4XtVMeN52Ji"
      },
      "source": [
        "1) Using the python print function print any string value, integer value, boolean value, float value in single print command"
      ]
    },
    {
      "cell_type": "code",
      "execution_count": null,
      "metadata": {
        "id": "mmR8ryIcwL_W",
        "outputId": "ae23e4a5-5635-4d8f-8840-f98c0cd2db07"
      },
      "outputs": [
        {
          "name": "stdout",
          "output_type": "stream",
          "text": [
            "Hello World 3.142 True 123\n"
          ]
        }
      ],
      "source": [
        "print(\"Hello World\",3.142,True,123)"
      ]
    },
    {
      "cell_type": "markdown",
      "metadata": {
        "id": "iNinlTd052Jr"
      },
      "source": [
        "2) Using the python print function print hyphon(-) separated any string value, integer value, boolean value, float value in single print command"
      ]
    },
    {
      "cell_type": "code",
      "execution_count": null,
      "metadata": {
        "id": "gbipSleHwL_Z",
        "outputId": "9186f3b9-81e8-4427-960e-c901f1bce9f7"
      },
      "outputs": [
        {
          "name": "stdout",
          "output_type": "stream",
          "text": [
            "Hello World-3.142-True-123\n"
          ]
        }
      ],
      "source": [
        "print(\"Hello World\",3.142,True,123,sep=\"-\")"
      ]
    },
    {
      "cell_type": "markdown",
      "metadata": {
        "id": "4fNVS99O52Jt"
      },
      "source": [
        "3) Using the python print function print any string value, integer value, boolean value, float value in separate print command.\n",
        "But every value must be space separated and in single line"
      ]
    },
    {
      "cell_type": "code",
      "execution_count": null,
      "metadata": {
        "id": "RCKlvGAFwL_b",
        "outputId": "fedbc01c-4ea0-4763-9895-1c82f58f774d"
      },
      "outputs": [
        {
          "name": "stdout",
          "output_type": "stream",
          "text": [
            "Hello World 3.142 True 234 "
          ]
        }
      ],
      "source": [
        "print(\"Hello World\",end=\" \")\n",
        "print(3.142,end=\" \")\n",
        "print(True,end=\" \")\n",
        "print(234,end=\" \")"
      ]
    },
    {
      "cell_type": "markdown",
      "metadata": {
        "id": "akEUFstT52Jv"
      },
      "source": [
        "4) Can a python print function take no value to print???\n"
      ]
    },
    {
      "cell_type": "raw",
      "metadata": {
        "id": "qzlcRihcwL_c"
      },
      "source": [
        "It takes the value to be printed"
      ]
    },
    {
      "cell_type": "markdown",
      "metadata": {
        "id": "vFPOFKW_52Jx"
      },
      "source": [
        "# TOPIC :Variables in Python Operators"
      ]
    },
    {
      "cell_type": "markdown",
      "metadata": {
        "id": "AzBzVODl52Jy"
      },
      "source": [
        "5) One of my friends name is Mr. Ahmed. He is 30 years old.  He is a lawer by profession. He has done his bachelors in law in the year 2005. He is working with a reputable law firm 'The Himalya Associates' in Karachi since 2015.\n",
        "He is a handsome lawer with height of 5.10 feets and weight 70600g. His monthly income is Rs. 200k PKR.\n",
        "\n",
        "Note: Create variables from above text and also assign values from the text.  "
      ]
    },
    {
      "cell_type": "code",
      "source": [
        "name = \"Mr. Ahmed\"\n",
        "age = 30\n",
        "profession = \"lawyer\"\n",
        "graduation_year = 2005\n",
        "law_firm = \"The Himalya Associates\"\n",
        "city = \"Karachi\"\n",
        "start_work_year = 2015\n",
        "height_feet = 5.10\n",
        "weight_grams = 70600\n",
        "monthly_income_pkr = 200000"
      ],
      "metadata": {
        "id": "FIJ2AeIzwbjm"
      },
      "execution_count": 1,
      "outputs": []
    },
    {
      "cell_type": "markdown",
      "metadata": {
        "id": "Uaf--v5S52J0"
      },
      "source": [
        "6)How many years has been to Mr. Ahmed after his bachelors degree? Create a variable that hold current year value and then subtract it from his passout year"
      ]
    },
    {
      "cell_type": "code",
      "execution_count": 2,
      "metadata": {
        "colab": {
          "base_uri": "https://localhost:8080/"
        },
        "id": "4Q-505P0wL_f",
        "outputId": "5f36cc5e-c2ad-456d-9779-d6c6d7237430"
      },
      "outputs": [
        {
          "output_type": "stream",
          "name": "stdout",
          "text": [
            "19\n"
          ]
        }
      ],
      "source": [
        "current_year : int = 2024\n",
        "years_passed : int = current_year - graduation_year\n",
        "print(years_passed)"
      ]
    },
    {
      "cell_type": "markdown",
      "metadata": {
        "id": "SAQtVyvD52J1"
      },
      "source": [
        "7) How many years has Mr. Ahmed been working with law firm 'The Himalya Associates'. Create necesary variables and print the correct number of years in working in the firm"
      ]
    },
    {
      "cell_type": "code",
      "execution_count": 3,
      "metadata": {
        "colab": {
          "base_uri": "https://localhost:8080/"
        },
        "id": "kl0iRmRmwL_g",
        "outputId": "e2a866e1-5d2d-4e77-9baa-14da5cb6d1e3"
      },
      "outputs": [
        {
          "output_type": "stream",
          "name": "stdout",
          "text": [
            "9\n"
          ]
        }
      ],
      "source": [
        "print(current_year - start_work_year)"
      ]
    },
    {
      "cell_type": "markdown",
      "metadata": {
        "id": "Gnk1kIUj52J3"
      },
      "source": [
        "8)Convert the monthly income of Mr. Ahmed in dollars.  Create necesary variables and print the income in dollars."
      ]
    },
    {
      "cell_type": "code",
      "execution_count": 5,
      "metadata": {
        "colab": {
          "base_uri": "https://localhost:8080/"
        },
        "id": "UEtGNumgwL_g",
        "outputId": "75228fc8-55c5-4149-8802-a80aefa546de"
      },
      "outputs": [
        {
          "output_type": "execute_result",
          "data": {
            "text/plain": [
              "714.2857142857143"
            ]
          },
          "metadata": {},
          "execution_count": 5
        }
      ],
      "source": [
        "income_in_dollars = monthly_income_pkr / 280\n",
        "income_in_dollars"
      ]
    },
    {
      "cell_type": "markdown",
      "metadata": {
        "id": "Adx4oblF52J4"
      },
      "source": [
        "9) Check if the income in dollars is a float or integer value. if it is float, re-write the code so that income gets converted in integer. print the income in integer type value"
      ]
    },
    {
      "cell_type": "code",
      "execution_count": 7,
      "metadata": {
        "colab": {
          "base_uri": "https://localhost:8080/"
        },
        "id": "uG1w205DwL_h",
        "outputId": "655307e2-9883-4c68-9ca6-0050f38cdbdd"
      },
      "outputs": [
        {
          "output_type": "execute_result",
          "data": {
            "text/plain": [
              "714"
            ]
          },
          "metadata": {},
          "execution_count": 7
        }
      ],
      "source": [
        "if isinstance(income_in_dollars, float):\n",
        "    monthly_income_dollar = int(income_in_dollars)\n",
        "monthly_income_dollar"
      ]
    },
    {
      "cell_type": "raw",
      "metadata": {
        "id": "NcYepWgZ52J5"
      },
      "source": [
        "10) Print the type of Mr. Ahmed's weight. Convert the weight of Mr. Ahmed in kg so that weight must be a integer value."
      ]
    },
    {
      "cell_type": "code",
      "source": [
        "# prompt: Print the type of Mr. Ahmed's weight. Convert the weight of Mr. Ahmed in kg so that weight must be a integer value.\n",
        "\n",
        "print(type(weight_grams))\n",
        "weight_kg = int(weight_grams / 1000)\n",
        "weight_kg"
      ],
      "metadata": {
        "id": "L_GfkkxPx9A8"
      },
      "execution_count": null,
      "outputs": []
    },
    {
      "cell_type": "code",
      "execution_count": null,
      "metadata": {
        "id": "05FU1XHw52J7"
      },
      "outputs": [],
      "source": [
        "#11) print the year of birth of Mr. Ahmed.\n",
        "birth_year = current_year - 30\n",
        "print(birth_year)"
      ]
    },
    {
      "cell_type": "markdown",
      "metadata": {
        "id": "eWySSgh552J8"
      },
      "source": [
        "12) Can Rs. 100 be divided equally among 6 students?\n",
        "HINT: % operator (modulo)"
      ]
    },
    {
      "cell_type": "code",
      "execution_count": null,
      "metadata": {
        "id": "RYc0Ks7g52J-",
        "outputId": "0e2425ca-fbed-4c24-b659-e52ef2d0674e"
      },
      "outputs": [
        {
          "data": {
            "text/plain": [
              "0"
            ]
          },
          "execution_count": 3,
          "metadata": {},
          "output_type": "execute_result"
        }
      ],
      "source": [
        "10%2\n",
        "# 10 is completely divisible by2\n",
        "# 10 is multiple of 2\n",
        "# 2 is a factor of 10\n",
        "# 10 comes in table of 2"
      ]
    },
    {
      "cell_type": "code",
      "execution_count": 8,
      "metadata": {
        "colab": {
          "base_uri": "https://localhost:8080/"
        },
        "id": "tkiEk4PJwL_k",
        "outputId": "5d67da74-e3ea-44f3-dde2-e11f0fd5f3b9"
      },
      "outputs": [
        {
          "output_type": "stream",
          "name": "stdout",
          "text": [
            "No, Rs. 100 cannot be divided equally among 6 students.\n"
          ]
        }
      ],
      "source": [
        "# prompt: 12) Can Rs. 100 be divided equally among 6 students? HINT: % operator (modulo)\n",
        "\n",
        "# 12) Can Rs. 100 be divided equally among 6 students?\n",
        "# HINT: % operator (modulo)\n",
        "\n",
        "amount = 100\n",
        "students = 6\n",
        "\n",
        "if amount % students == 0:\n",
        "  print(\"Yes, Rs. 100 can be divided equally among 6 students.\")\n",
        "else:\n",
        "  print(\"No, Rs. 100 cannot be divided equally among 6 students.\")"
      ]
    },
    {
      "cell_type": "code",
      "execution_count": null,
      "metadata": {
        "id": "X3ncSwJt52KA"
      },
      "outputs": [],
      "source": []
    }
  ],
  "metadata": {
    "colab": {
      "provenance": []
    },
    "kernelspec": {
      "display_name": "Python 3 (ipykernel)",
      "language": "python",
      "name": "python3"
    },
    "language_info": {
      "codemirror_mode": {
        "name": "ipython",
        "version": 3
      },
      "file_extension": ".py",
      "mimetype": "text/x-python",
      "name": "python",
      "nbconvert_exporter": "python",
      "pygments_lexer": "ipython3",
      "version": "3.12.7"
    }
  },
  "nbformat": 4,
  "nbformat_minor": 0
}