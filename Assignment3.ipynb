{
 "cells": [
  {
   "cell_type": "markdown",
   "id": "9965b07b-de35-47ea-aa0a-faff7c3db4df",
   "metadata": {},
   "source": [
    "# A- Discounts and Pricing"
   ]
  },
  {
   "cell_type": "markdown",
   "id": "09239170-946e-4871-bb28-09e7608cec60",
   "metadata": {},
   "source": [
    "1. Check Discount Eligibility\n",
    "Write a program to check if a customer is eligible for a discount. If the total purchase is\n",
    "more than $100, apply a 10% discount and display the final price. Otherwise, display the\n",
    "total price as it is."
   ]
  },
  {
   "cell_type": "code",
   "execution_count": 1,
   "id": "ba2205b3-271f-4944-8152-25001e03ba10",
   "metadata": {},
   "outputs": [
    {
     "name": "stdin",
     "output_type": "stream",
     "text": [
      "Enter the total purchase amt:  800\n"
     ]
    },
    {
     "name": "stdout",
     "output_type": "stream",
     "text": [
      "Total Purchase Amt: $800 \n",
      "Discount Availed $80.0\n",
      "Amount After Discount is $720.0\n"
     ]
    }
   ],
   "source": [
    "total_purchase = int(input(\"Enter the total purchase amt: \"))\n",
    "if total_purchase >100:\n",
    "    discount = total_purchase*.10\n",
    "    print(f\"Total Purchase Amt: ${total_purchase} \")\n",
    "    print(f\"Discount Availed ${discount}\")\n",
    "    print(f\"Amount After Discount is ${total_purchase-discount}\")\n",
    "else:\n",
    "    print(f\"Amount Payable is ${total_purchase}\")"
   ]
  },
  {
   "cell_type": "markdown",
   "id": "783875e5-611e-40f3-8317-1653e2584ae4",
   "metadata": {},
   "source": [
    "2. Calculate Bulk Discount\n",
    "If a customer buys more than 5 items, apply a 15% discount on the total price. Otherwise,\n",
    "no discount is applied. Display the total price."
   ]
  },
  {
   "cell_type": "code",
   "execution_count": 15,
   "id": "206253ce-9026-4741-bae2-7e3aacbe05b3",
   "metadata": {},
   "outputs": [
    {
     "name": "stdin",
     "output_type": "stream",
     "text": [
      "Enter the total purchase amt:  900\n",
      "Enter the no of item you purchased ? 7\n"
     ]
    },
    {
     "name": "stdout",
     "output_type": "stream",
     "text": [
      "The discount you got is 15% which means you have to pay 765.0\n"
     ]
    }
   ],
   "source": [
    "total_amt = int(input(\"Enter the total purchase amt: \"))\n",
    "total_purchased_item = int(input(\"Enter the no of item you purchased ?\"))\n",
    "\n",
    "if total_purchased_item > 5:\n",
    "    print(f\"The discount you got is 15% which means you have to pay {total_amt * 0.85}\")\n",
    "else:\n",
    "    print(f\"Pay the current amt : {total_amt}\")"
   ]
  },
  {
   "cell_type": "markdown",
   "id": "bce3704b-fe02-41f5-ab53-f1785c67f3ce",
   "metadata": {},
   "source": [
    "3. Membership Discount\n",
    "Check if the customer is a member (is_member = True). Members get a 20% discount;\n",
    "non-members get a 5% discount. Calculate and print the discounted price."
   ]
  },
  {
   "cell_type": "code",
   "execution_count": 19,
   "id": "8fc0ffa0-fcb6-4583-a64f-5bd488f3c16e",
   "metadata": {},
   "outputs": [
    {
     "name": "stdin",
     "output_type": "stream",
     "text": [
      "Are you a member?  no\n"
     ]
    },
    {
     "name": "stdout",
     "output_type": "stream",
     "text": [
      "The amount you have to pay is 5000\n"
     ]
    }
   ],
   "source": [
    "total_amt = 5000\n",
    "user_input = input(\"Are you a member? \")\n",
    "is_member = user_input.startswith(\"Y\") or user_input.startswith(\"y\")\n",
    "\n",
    "if is_member: print(f\"For being a member you gets a discount of 20% which means you only have to pay {total_amt * 0.80} \")\n",
    "else: print(f\"The amount you have to pay is {total_amt}\")"
   ]
  },
  {
   "cell_type": "markdown",
   "id": "665f77cf-a7e5-4412-a811-9b5c90cdca9a",
   "metadata": {},
   "source": [
    "4. Seasonal Sale\n",
    "If today is a holiday (is_holiday = True), apply a 25% discount; otherwise, apply a 10%\n",
    "discount. Calculate the price after discount."
   ]
  },
  {
   "cell_type": "code",
   "execution_count": 20,
   "id": "948c2339-6efd-437f-a8ce-9875a24f40a9",
   "metadata": {},
   "outputs": [
    {
     "name": "stdin",
     "output_type": "stream",
     "text": [
      "Is today a holiday Yes\n"
     ]
    },
    {
     "name": "stdout",
     "output_type": "stream",
     "text": [
      "The amount you have to pay is 80000.0 \n"
     ]
    }
   ],
   "source": [
    "user_input = input(\"Is today a holiday\")\n",
    "amt = 100000\n",
    "if user_input.startswith(\"Y\") or user_input.startswith(\"y\"):\n",
    "    print(f\"The amount you have to pay is {amt*0.80} \")\n",
    "else:\n",
    "    print(f\"The amount you have to pay is {amt} \")"
   ]
  },
  {
   "cell_type": "markdown",
   "id": "86b6c25c-9636-44bc-970c-c0b4dcf9bd88",
   "metadata": {},
   "source": [
    "5. Buy-One-Get-One-Free\n",
    "If a customer buys an even number of items, they get half of them for free. Otherwise,\n",
    "they pay for all. Calculate the number of items the customer has to pay for."
   ]
  },
  {
   "cell_type": "code",
   "execution_count": 2,
   "id": "09c2d47b-41fc-45b1-b2f0-e21184ee3bdb",
   "metadata": {},
   "outputs": [
    {
     "name": "stdin",
     "output_type": "stream",
     "text": [
      "How much items have you purchased ? 77\n"
     ]
    },
    {
     "name": "stdout",
     "output_type": "stream",
     "text": [
      "The number of items the customer has to pay for 77\n"
     ]
    }
   ],
   "source": [
    "items = int(input(\"How much items have you purchased ?\"))\n",
    "if items % 2 == 0 :\n",
    "    print(f\"The number of items the customer has to pay for {items // 2}\")\n",
    "else:\n",
    "    print(f\"The number of items the customer has to pay for {items}\")"
   ]
  },
  {
   "cell_type": "markdown",
   "id": "0df1466f-9c00-4b43-a00a-7cbb53fc3c13",
   "metadata": {},
   "source": [
    "# B- Tax Calculations"
   ]
  },
  {
   "cell_type": "markdown",
   "id": "4892fc45-75d0-44ca-9df1-fc85f695b962",
   "metadata": {},
   "source": [
    "* Sales Tax\n",
    "If the price of an item is greater than $500, apply a luxury tax of 15%. Otherwise, apply a\n",
    "standard tax of 8%. Display the total price after tax."
   ]
  },
  {
   "cell_type": "code",
   "execution_count": 27,
   "id": "7c522a18-9ed0-469c-b7db-27c07f374f93",
   "metadata": {},
   "outputs": [
    {
     "name": "stdout",
     "output_type": "stream",
     "text": [
      "524\n",
      "78.6\n",
      "You have gotten a luxury tax of 15% which means you have to pay 602.6\n"
     ]
    }
   ],
   "source": [
    "import random\n",
    "\n",
    "\n",
    "price = random.randint(300 ,1000)  \n",
    "\n",
    "print(price)\n",
    "\n",
    "if price > 500 :\n",
    "    tax = price * 0.15\n",
    "    print(tax)\n",
    "    total_price = price + tax\n",
    "    print(f\"You have gotten a luxury tax of 15% which means you have to pay {total_price}\")\n",
    "else:\n",
    "    tax = price * 0.08\n",
    "    print(tax)\n",
    "    total_price = price + tax\n",
    "    print(f\"You have gotten a standard tax of 8% which means you have to pay {total_price}\")"
   ]
  },
  {
   "cell_type": "markdown",
   "id": "31b40152-6e17-44a7-a14d-5c7b8ea2a397",
   "metadata": {},
   "source": [
    "7. Income Tax\n",
    "If a person&#39;s annual income is above $50,000, they pay 20% tax. Otherwise, they pay\n",
    "10%. Calculate and display the tax amount."
   ]
  },
  {
   "cell_type": "code",
   "execution_count": 34,
   "id": "b25e82f0-450b-4a4c-afbc-6baa38fdf830",
   "metadata": {},
   "outputs": [
    {
     "name": "stdin",
     "output_type": "stream",
     "text": [
      "How much is your salary? 75000\n"
     ]
    },
    {
     "name": "stdout",
     "output_type": "stream",
     "text": [
      "The tax you have to pay is 15000.0\n"
     ]
    }
   ],
   "source": [
    "income = int(input(\"How much is your salary?\"))\n",
    "\n",
    "if income > 50000:\n",
    "    print(f\"The tax you have to pay is {income*0.20}\")\n",
    "else:\n",
    "    print(f\"The tax you have to pay is {income*0.1}\")"
   ]
  },
  {
   "cell_type": "markdown",
   "id": "e05bf277-fec6-4d8a-b3d6-45e205b187ae",
   "metadata": {},
   "source": [
    "8. Tax Bracket\n",
    "Write a program to categorize a person into tax brackets:\n",
    " Income &lt; $30,000: &quot;Low Tax&quot;\n",
    " $30,000 ≤ Income &lt; $100,000: &quot;Medium Tax&quot;\n",
    " Income ≥ $100,000: &quot;High Tax&quot;"
   ]
  },
  {
   "cell_type": "code",
   "execution_count": 35,
   "id": "0da7ef03-b979-4b93-b6d3-558708493214",
   "metadata": {},
   "outputs": [
    {
     "name": "stdout",
     "output_type": "stream",
     "text": [
      "Medium Tax\n"
     ]
    }
   ],
   "source": [
    "if income < 30000:\n",
    "    print(\"Low Tax\")\n",
    "elif 30000<=income<=100000:\n",
    "    print(\"Medium Tax\")\n",
    "else:\n",
    "    print(\"High Tax\")"
   ]
  },
  {
   "cell_type": "markdown",
   "id": "808c12f9-efe6-4739-803b-1f46fc165350",
   "metadata": {},
   "source": [
    "9. VAT Calculation\n",
    "If the item is marked as essential (is_essential = True), apply a VAT of 5%. Otherwise,\n",
    "apply a VAT of 12%. Display the final price."
   ]
  },
  {
   "cell_type": "code",
   "execution_count": 39,
   "id": "b6e24884-fb8a-40ec-9b9d-98846c9decce",
   "metadata": {},
   "outputs": [
    {
     "name": "stdin",
     "output_type": "stream",
     "text": [
      "Enter the price of the item:  65\n",
      "Is the item essential? (True/False):  true\n"
     ]
    },
    {
     "name": "stdout",
     "output_type": "stream",
     "text": [
      "The final price after applying VAT is: 68.25\n"
     ]
    }
   ],
   "source": [
    "\n",
    "price = float(input(\"Enter the price of the item: \"))\n",
    "is_essential = input(\"Is the item essential? (True/False): \").strip().lower() == 'true'\n",
    "\n",
    "if is_essential:\n",
    "    vat = 0.05  # 5% VAT for essential items\n",
    "else:\n",
    "    vat = 0.12  # 12% VAT for non-essential items\n",
    "\n",
    "# Calculate the final price\n",
    "final_price = price + (price * vat)\n",
    "\n",
    "# Display the final price\n",
    "print(f\"The final price after applying VAT is: {final_price:.2f}\")\n"
   ]
  },
  {
   "cell_type": "markdown",
   "id": "6725a1f8-85e2-46a3-b17e-788456659559",
   "metadata": {},
   "source": [
    "10. Tax-Free Day\n",
    "If today is a tax-free day (tax_free = True), display the original price. Otherwise, add a\n",
    "7% tax."
   ]
  },
  {
   "cell_type": "code",
   "execution_count": 44,
   "id": "04619d53-bb5f-4553-b76c-638875f722ff",
   "metadata": {},
   "outputs": [
    {
     "name": "stdin",
     "output_type": "stream",
     "text": [
      "Enter the price of the item:  7776\n",
      "Is the day tax free (True/False):  f\n"
     ]
    },
    {
     "name": "stdout",
     "output_type": "stream",
     "text": [
      "The price is 8320.32\n"
     ]
    }
   ],
   "source": [
    "\n",
    "price = float(input(\"Enter the price of the item: \"))\n",
    "is_essential = input(\"Is the day tax free (True/False): \").strip().lower() == 'true'\n",
    "\n",
    "if is_essential:\n",
    "    print(f\"The price is {price}\")\n",
    "else:\n",
    "    price += price*0.07\n",
    "    print(f\"The price is {price}\")\n",
    "\n"
   ]
  },
  {
   "cell_type": "markdown",
   "id": "76edbbc4-117f-4bd6-b420-e7a6834684e6",
   "metadata": {},
   "source": [
    "# C- Shopping and Billing\n"
   ]
  },
  {
   "cell_type": "markdown",
   "id": "e0454448-2da2-468c-b8e6-04ccbc0e2719",
   "metadata": {},
   "source": [
    "11. Free Shipping\n",
    "If the total purchase amount is more than $50, offer free shipping; otherwise, charge $5\n",
    "for shipping. Display the total amount including shipping."
   ]
  },
  {
   "cell_type": "code",
   "execution_count": 46,
   "id": "c6b14ecd-2244-4cbc-ab31-51c28a154825",
   "metadata": {},
   "outputs": [
    {
     "name": "stdin",
     "output_type": "stream",
     "text": [
      "Enter the price of the item:  23\n"
     ]
    },
    {
     "name": "stdout",
     "output_type": "stream",
     "text": [
      "You have to pay 28.0\n"
     ]
    }
   ],
   "source": [
    "\n",
    "price = float(input(\"Enter the price of the item: \"))\n",
    "\n",
    "if price > 50:\n",
    "    print(f\"Your product will be delivered to you at no cost. Enjoy free Shipping!\")\n",
    "else:\n",
    "    print(f\"You have to pay {price + 5}\")\n",
    "\n"
   ]
  },
  {
   "cell_type": "markdown",
   "id": "efcaafb1-b0a3-4ca8-966b-733de0d8a3ed",
   "metadata": {},
   "source": [
    "12. Discount Code\n",
    "If a customer enters the correct discount code (DISCOUNT10), apply a 10% discount.\n",
    "Otherwise, charge the full amount."
   ]
  },
  {
   "cell_type": "code",
   "execution_count": 47,
   "id": "23540dbb-61b3-43d4-9670-f52a64ce3357",
   "metadata": {},
   "outputs": [
    {
     "name": "stdin",
     "output_type": "stream",
     "text": [
      "Enter the price?  99990\n",
      "Enter the discount code you have!  DISCOUNT10\n"
     ]
    },
    {
     "name": "stdout",
     "output_type": "stream",
     "text": [
      "You have to pay 89991.0 which means 10% discount\n"
     ]
    }
   ],
   "source": [
    "price = float(input(\"Enter the price? \"))\n",
    "disc_code = input(\"Enter the discount code you have! \")\n",
    "\n",
    "if disc_code == \"DISCOUNT10\":\n",
    "    print(f\"You have to pay {price*0.9} which means 10% discount\")\n",
    "else:\n",
    "    print(f\"You have to pay ${price}\")"
   ]
  },
  {
   "cell_type": "markdown",
   "id": "49d915f9-fea3-4b88-b448-68fe74c59cb1",
   "metadata": {},
   "source": [
    "13. Tiered Discounts\n",
    "Apply discounts based on the total price:\n",
    " $0–$50: No discount.\n",
    " $50–$100: 10% discount.\n",
    " Over $100: 20% discount."
   ]
  },
  {
   "cell_type": "code",
   "execution_count": 48,
   "id": "f09adb08-3939-44e9-a3d3-6c7c19755167",
   "metadata": {},
   "outputs": [
    {
     "name": "stdin",
     "output_type": "stream",
     "text": [
      "Enter the price?  77\n"
     ]
    },
    {
     "name": "stdout",
     "output_type": "stream",
     "text": [
      "10% Discount. Price $69.3\n"
     ]
    }
   ],
   "source": [
    "price = float(input(\"Enter the price? \"))\n",
    "\n",
    "\n",
    "if price<50:\n",
    "    print(f\"No discount .price ${price}\")\n",
    "elif price <=100:\n",
    "    print(f\"10% Discount. Price ${price*0.90}\")\n",
    "else:\n",
    "    print(f\"20% discount. Price ${price*0.80}\")"
   ]
  },
  {
   "cell_type": "markdown",
   "id": "3d66e896-ba57-4d4d-bcad-3803929eacf5",
   "metadata": {},
   "source": [
    "14. Minimum Purchase Requirement\n",
    "If the total amount is less than $20, display a message: &quot;Minimum purchase of $20 is\n",
    "required.&quot; Otherwise, display the total amount."
   ]
  },
  {
   "cell_type": "code",
   "execution_count": 50,
   "id": "5f6d526f-6bbb-4ec5-906a-4ac5e2c99159",
   "metadata": {},
   "outputs": [
    {
     "name": "stdin",
     "output_type": "stream",
     "text": [
      "Enter the price?  66\n"
     ]
    },
    {
     "name": "stdout",
     "output_type": "stream",
     "text": [
      "Amount to be payed $66.0\n"
     ]
    }
   ],
   "source": [
    "total_purchase = float(input(\"Enter the price? \"))\n",
    "\n",
    "if price<20:\n",
    "    print(\"Minimum purchase of $20 is required\")\n",
    "else:\n",
    "    print(f\"Amount to be payed ${total_purchase}\")"
   ]
  },
  {
   "cell_type": "markdown",
   "id": "a3dd5927-f70a-4877-9219-45cb5a90669e",
   "metadata": {},
   "source": [
    "15. Loyalty Points\n",
    "If a customer is a loyal member (is_loyal = True), they earn double loyalty points for\n",
    "their purchase. Otherwise, they earn standard points."
   ]
  },
  {
   "cell_type": "code",
   "execution_count": 59,
   "id": "fa0de118-3c1c-47a2-98e3-b51f1c71c20a",
   "metadata": {},
   "outputs": [
    {
     "name": "stdout",
     "output_type": "stream",
     "text": [
      "Haris is a loyal customer and earns double loyalty points\n",
      "Umer is not a loyal customer and earns standard loyalty points\n",
      "Siraj is a loyal customer and earns double loyalty points\n",
      "Ali is a loyal customer and earns double loyalty points\n",
      "Hurairah is not a loyal customer and earns standard loyalty points\n"
     ]
    }
   ],
   "source": [
    "customer = {\n",
    "    \"Haris\":\"Loyal\",\n",
    "    \"Umer\":\"UnLoyal\",\n",
    "    \"Siraj\":\"Loyal\",\n",
    "    \"Ali\":\"Loyal\",\n",
    "    \"Hurairah\":\"UnLoyal\",\n",
    "}\n",
    "for k in customer:\n",
    "    if customer[k] == \"Loyal\":\n",
    "        print(f\"{k} is a loyal customer and earns double loyalty points\")\n",
    "    else:\n",
    "        print(f\"{k} is not a loyal customer and earns standard loyalty points\")"
   ]
  },
  {
   "cell_type": "markdown",
   "id": "840094c3-f044-4ce4-b828-7ecf262d6e87",
   "metadata": {},
   "source": [
    "# D- Travel and Tickets"
   ]
  },
  {
   "cell_type": "markdown",
   "id": "7ef0d41b-c514-4e34-bf0c-ad7ede456fe5",
   "metadata": {},
   "source": [
    "16. Travel Discount\n",
    "If a person is traveling more than 500 miles, offer a 20% discount on ticket price.\n",
    "Otherwise, charge the full amount."
   ]
  },
  {
   "cell_type": "code",
   "execution_count": 1,
   "id": "829e9d32-dfed-46c7-8a0d-e20f07b6bd43",
   "metadata": {},
   "outputs": [
    {
     "name": "stdin",
     "output_type": "stream",
     "text": [
      "How much  miles are you travelling?  300\n"
     ]
    },
    {
     "name": "stdout",
     "output_type": "stream",
     "text": [
      "Amount payable : $9753\n"
     ]
    }
   ],
   "source": [
    "import random\n",
    "distance = float(input(\"How much  miles are you travelling? \"))\n",
    "price = random.randint(9000 , 20000)\n",
    "if distance > 500:\n",
    "    print(f\"You are getting a discount of 20% which means you have to pay ${price*0.80}\")\n",
    "else:\n",
    "    print(f\"Amount payable : ${price}\")"
   ]
  },
  {
   "cell_type": "markdown",
   "id": "8cacd961-2567-44fa-ab9a-2f7fe89a2718",
   "metadata": {},
   "source": [
    "17. Child or Senior Discount\n",
    "If a passenger is under 12 or over 60 years old, apply a 15% discount on the ticket price.\n",
    "Otherwise, charge the full price."
   ]
  },
  {
   "cell_type": "code",
   "execution_count": 2,
   "id": "c1a97fbf-b731-41a1-8423-487c035ab6da",
   "metadata": {},
   "outputs": [
    {
     "name": "stdin",
     "output_type": "stream",
     "text": [
      "Enter you age 11\n"
     ]
    },
    {
     "name": "stdout",
     "output_type": "stream",
     "text": [
      "Price Payable : $76500.0\n"
     ]
    }
   ],
   "source": [
    "age = int(input(\"Enter you age\"))\n",
    "price= 90000\n",
    "if age < 12 or age > 60:\n",
    "    print(f\"Price Payable : ${price*0.85}\")\n",
    "else:\n",
    "    print(\"Price Payable: ${price}\")"
   ]
  },
  {
   "cell_type": "markdown",
   "id": "d40d4809-5916-41ca-9660-b310cc5725b1",
   "metadata": {},
   "source": [
    "18. Ticket Type Pricing\n",
    "If the ticket is for a weekend (is_weekend = True), add a 10% surcharge. Otherwise,\n",
    "charge the standard price."
   ]
  },
  {
   "cell_type": "code",
   "execution_count": 4,
   "id": "96b7fe6b-ba0a-43a6-9464-70045f524c8f",
   "metadata": {},
   "outputs": [
    {
     "name": "stdin",
     "output_type": "stream",
     "text": [
      "Enter the price of the item:  80\n",
      "Is it a weekend today?  true\n"
     ]
    },
    {
     "name": "stdout",
     "output_type": "stream",
     "text": [
      "The price is 88.0\n"
     ]
    }
   ],
   "source": [
    "\n",
    "price = float(input(\"Enter the price of the item: \"))\n",
    "is_weekend = input(\"Is it a weekend today? \").strip().lower() == 'true'\n",
    "\n",
    "if is_weekend:\n",
    "    price+= price * 0.10\n",
    "    print(f\"The price is {price}\")\n",
    "else:\n",
    "    print(f\"The price is {price}\")\n",
    "\n"
   ]
  },
  {
   "cell_type": "markdown",
   "id": "0931fb40-d33a-49d9-bb2b-9dc11ada4afa",
   "metadata": {},
   "source": [
    "19. Baggage Fee\n",
    "If the total baggage weight is over 20kg, charge $10 per extra kilogram. Otherwise, no\n",
    "extra fee."
   ]
  },
  {
   "cell_type": "code",
   "execution_count": 11,
   "id": "f7061378-b4b3-413d-a56a-575df7cf6155",
   "metadata": {},
   "outputs": [
    {
     "name": "stdin",
     "output_type": "stream",
     "text": [
      "What is the weight  19\n"
     ]
    },
    {
     "name": "stdout",
     "output_type": "stream",
     "text": [
      "The price is 9000\n"
     ]
    }
   ],
   "source": [
    "weight = float(input(\"What is the weight \"))\n",
    "price = 9000\n",
    "\n",
    "if weight > 20 :\n",
    "    extra_fee = 10\n",
    "    extra_weight = weight - 20\n",
    "\n",
    "    fee = extra_weight * extra_fee\n",
    "    price+= fee\n",
    "    print(f\"The cost is ${price}\")\n",
    "else:\n",
    "    print(f\"The price is {price}\")\n",
    "\n"
   ]
  },
  {
   "cell_type": "markdown",
   "id": "8e0cc13f-3036-470e-899e-249f634025ae",
   "metadata": {},
   "source": [
    "20. Early Bird Discount\n",
    "If a ticket is booked more than 30 days in advance, apply a 10% discount. Otherwise,\n",
    "charge the full price."
   ]
  },
  {
   "cell_type": "code",
   "execution_count": 13,
   "id": "e8f4f184-307f-4ca5-9f49-ce3da8a0f097",
   "metadata": {},
   "outputs": [
    {
     "name": "stdin",
     "output_type": "stream",
     "text": [
      "Enter the price of the item:  32\n"
     ]
    },
    {
     "name": "stdout",
     "output_type": "stream",
     "text": [
      "The price is 540.0\n"
     ]
    }
   ],
   "source": [
    "\n",
    "day = int(input(\"Enter the price of the item: \"))\n",
    "price = 600\n",
    "if day > 30:\n",
    "\n",
    "    print(f\"The price is {price*0.90}\")\n",
    "else:\n",
    "    print(f\"The price is {price}\")\n",
    "\n"
   ]
  },
  {
   "cell_type": "markdown",
   "id": "dd2e655c-0a73-4db4-a98f-d5aa67231cf8",
   "metadata": {},
   "source": [
    "# E- Grades and Performance"
   ]
  },
  {
   "cell_type": "markdown",
   "id": "1ef6136d-fc36-4b02-8447-d6c14510ccc2",
   "metadata": {},
   "source": [
    "21. Pass or Fail\n",
    "If a student scores 40 or more, print &quot;Pass&quot;. Otherwise, print &quot;Fail&quot;."
   ]
  },
  {
   "cell_type": "code",
   "execution_count": 14,
   "id": "e331a7af-214f-4537-b254-58f215252efc",
   "metadata": {},
   "outputs": [
    {
     "name": "stdin",
     "output_type": "stream",
     "text": [
      "Enter your score?  42\n"
     ]
    },
    {
     "name": "stdout",
     "output_type": "stream",
     "text": [
      "Pass!\n"
     ]
    }
   ],
   "source": [
    "score = float(input(\"Enter your score? \"))\n",
    "if score>40:\n",
    "    print(\"Pass!\")\n",
    "else:\n",
    "    print(\"Fail\")"
   ]
  },
  {
   "cell_type": "markdown",
   "id": "f0505135-55bd-4aab-a98f-7fb3d7ad4cef",
   "metadata": {},
   "source": [
    "22. Grade Assignment\n",
    "Based on a student&#39;s score, assign grades:\n",
    " 90 and above: &quot;A&quot;\n",
    " 75–89: &quot;B&quot;\n",
    " 50–74: &quot;C&quot;\n",
    " Below 50: &quot;F&quot;"
   ]
  },
  {
   "cell_type": "code",
   "execution_count": 18,
   "id": "5bc80f83-c7d5-4809-87b2-058ae1b1bf0c",
   "metadata": {},
   "outputs": [
    {
     "name": "stdin",
     "output_type": "stream",
     "text": [
      "Enter your score?  23\n"
     ]
    },
    {
     "name": "stdout",
     "output_type": "stream",
     "text": [
      "D\n"
     ]
    }
   ],
   "source": [
    "score = float(input(\"Enter your score? \"))\n",
    "if score>90:\n",
    "    grade = \"A\"\n",
    "    print(f\"{grade}\")\n",
    "elif score>=75:\n",
    "    grade = \"B\"\n",
    "    print(f\"{grade}\")\n",
    "elif score>=50:\n",
    "    grade = \"C\"\n",
    "    print(f\"{grade}\")\n",
    "else:\n",
    "    grade = \"D\"\n",
    "    print(f\"{grade}\")"
   ]
  },
  {
   "cell_type": "markdown",
   "id": "87e15562-9039-494c-a83d-82b960d84530",
   "metadata": {},
   "source": [
    "23. Bonus Marks\n",
    "If a student completes all assignments, add 5 bonus marks to their score. Otherwise, no\n",
    "bonus marks."
   ]
  },
  {
   "cell_type": "code",
   "execution_count": 22,
   "id": "c372a97e-0c8a-4088-9c8d-1f268ac294d2",
   "metadata": {},
   "outputs": [
    {
     "name": "stdin",
     "output_type": "stream",
     "text": [
      "Have you completed all assignments?  yes\n"
     ]
    },
    {
     "name": "stdout",
     "output_type": "stream",
     "text": [
      "Your score is 28.0\n"
     ]
    }
   ],
   "source": [
    "no_of_assignments = input(\"Have you completed all assignments? \")\n",
    "\n",
    "if no_of_assignments.startswith(\"y\") or no_of_assignments.startswith(\"Y\"):\n",
    "    score+=5\n",
    "    print(f\"Your score is {score}\")\n",
    "else:\n",
    "    print(f\"Your score is {score}\")"
   ]
  },
  {
   "cell_type": "markdown",
   "id": "7b074067-08ba-46e6-a298-591167e7f2df",
   "metadata": {},
   "source": [
    "24. Attendance Eligibility\n",
    "If a student&#39;s attendance is 75% or more, they are eligible to take the exam. Otherwise,\n",
    "they are not.\n"
   ]
  },
  {
   "cell_type": "code",
   "execution_count": 23,
   "id": "a7be26b2-b57c-43e8-8685-450e95c48bcc",
   "metadata": {},
   "outputs": [
    {
     "name": "stdin",
     "output_type": "stream",
     "text": [
      "How much is your attendance 79\n"
     ]
    },
    {
     "name": "stdout",
     "output_type": "stream",
     "text": [
      "Eligible for the exam\n"
     ]
    }
   ],
   "source": [
    "attendance = int(input(\"How much is your attendance\"))\n",
    "\n",
    "if attendance > 75:\n",
    "    print(\"Eligible for the exam\")\n",
    "else:\n",
    "    print(\"Not Eligible\")"
   ]
  },
  {
   "cell_type": "markdown",
   "id": "c06f30e1-df54-4554-b130-2cc35e39cbb7",
   "metadata": {},
   "source": [
    "25. Scholarship Eligibility\n",
    "If a student&#39;s grade is &quot;A&quot; and their annual family income is below $30,000, they are\n",
    "eligible for a scholarship. Otherwise, they are not."
   ]
  },
  {
   "cell_type": "code",
   "execution_count": 28,
   "id": "1f6ee16f-62d1-472c-9fc4-123e59cad13c",
   "metadata": {},
   "outputs": [
    {
     "name": "stdin",
     "output_type": "stream",
     "text": [
      "Enter your grade A\n",
      "Enter family income 25000\n"
     ]
    },
    {
     "name": "stdout",
     "output_type": "stream",
     "text": [
      "The student is eligible for the scholarship.\n"
     ]
    }
   ],
   "source": [
    "# Example inputs\n",
    "grade = input(\"Enter your grade\")  # student's grade\n",
    "family_income = int(input(\"Enter family income\"))  # student's annual family income\n",
    "\n",
    "# Scholarship eligibility check\n",
    "if grade == \"A\" and family_income < 30000:\n",
    "    print(\"The student is eligible for the scholarship.\")\n",
    "else:\n",
    "    print(\"The student is not eligible for the scholarship.\")\n"
   ]
  },
  {
   "cell_type": "code",
   "execution_count": null,
   "id": "f155f9c7-00f1-4d3b-afff-00d864416166",
   "metadata": {},
   "outputs": [],
   "source": []
  }
 ],
 "metadata": {
  "kernelspec": {
   "display_name": "Python 3 (ipykernel)",
   "language": "python",
   "name": "python3"
  },
  "language_info": {
   "codemirror_mode": {
    "name": "ipython",
    "version": 3
   },
   "file_extension": ".py",
   "mimetype": "text/x-python",
   "name": "python",
   "nbconvert_exporter": "python",
   "pygments_lexer": "ipython3",
   "version": "3.12.7"
  }
 },
 "nbformat": 4,
 "nbformat_minor": 5
}
