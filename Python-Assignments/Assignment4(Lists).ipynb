{
 "cells": [
  {
   "cell_type": "markdown",
   "id": "2bf89dc7-4d3b-49ac-804d-e3c7afcb029a",
   "metadata": {},
   "source": [
    "1. Write a program that accepts a list from user and print the alternate element of list."
   ]
  },
  {
   "cell_type": "code",
   "execution_count": null,
   "id": "ab38c072-1c76-4e5f-b4e6-60920ff98d4c",
   "metadata": {},
   "outputs": [],
   "source": [
    "list_input = input(\"Enter the list you want to add .. \").split(',')\n",
    "\n",
    "for i in list_input:\n",
    "    print(i)"
   ]
  },
  {
   "cell_type": "markdown",
   "id": "294859c3-d06a-4e49-8489-016fd652dd3d",
   "metadata": {},
   "source": [
    "2. Write a program that accepts a list from user. Your program should reverse the content of list and\n",
    "display it. Do not use reverse() method."
   ]
  },
  {
   "cell_type": "code",
   "execution_count": null,
   "id": "0805a46e-6001-4cb5-8800-d350f705cf17",
   "metadata": {},
   "outputs": [],
   "source": [
    "list_input = input(\"Enter the list items you want to add .. \").split(',')\n",
    "\n",
    "for i in list_input[::-1]:\n",
    "    print(i)"
   ]
  },
  {
   "cell_type": "markdown",
   "id": "2ff1b8b7-b0c7-4d08-8f8e-53b97241407a",
   "metadata": {},
   "source": [
    "3. Find and display the largest number of a list without using built-in function max(). Your program\n",
    "should ask the user to input values in list from keyboard."
   ]
  },
  {
   "cell_type": "code",
   "execution_count": null,
   "id": "06810280-5bf3-42be-abbb-4667f901d2f8",
   "metadata": {},
   "outputs": [],
   "source": [
    "list_input = list(map(int , input(\"Enter the list items you want to add please specify gap in between \").split(' ')))\n",
    "\n",
    "largest_number = list_input[0] \n",
    "\n",
    "for i in list_input:\n",
    "    if i > largest_number:\n",
    "        largest_number = i\n",
    "print(largest_number)"
   ]
  },
  {
   "cell_type": "markdown",
   "id": "ec8172c6-76ae-4629-ad57-b82648eaf1d4",
   "metadata": {},
   "source": [
    "4. Write a program that rotates the element of a list so that the element at the first index moves to the\n",
    "second index, the element in the second index moves to the third index, etc., and the element in the last\n",
    "index moves to the first index."
   ]
  },
  {
   "cell_type": "code",
   "execution_count": null,
   "id": "90ffbfad-3cbd-4093-bebf-72ffd5549110",
   "metadata": {},
   "outputs": [],
   "source": [
    "user_list = input(\"Enter the list of items you wanna add the values should be comma seprated\").split(',')\n",
    "\n",
    "rotated_list = user_list[-1:] + user_list[:-1]\n",
    "# This is showed by the example\n",
    "\"\"\"  For e.g we have two list l1 =  [1,23,4]  if we firstly slice l1 to l1[-1:] and l1[:-1] this will result in \n",
    "    [4] and [1,23] and if we add it then it will become [4,1,23]\n",
    "    which means last at first first at second and second at third\n",
    "\"\"\"\n",
    "\n",
    "print(\"The rotated list is \",rotated_list)"
   ]
  },
  {
   "cell_type": "markdown",
   "id": "7decd5fd",
   "metadata": {},
   "source": [
    "5. Write a program that input a string and ask user to delete a given word from a string."
   ]
  },
  {
   "cell_type": "code",
   "execution_count": null,
   "id": "bec7baa6",
   "metadata": {},
   "outputs": [],
   "source": [
    "def remove_word():\n",
    "    text = input(\"Enter a string: \").split()\n",
    "    del_words = input(\"Enter the words you want to delete from the string: \")\n",
    "  \n",
    "    filtered_words = [w for w in text if w != del_words]\n",
    "    result = ' '.join(filtered_words)\n",
    "    print(result)\n",
    "\n",
    "remove_word()"
   ]
  },
  {
   "cell_type": "markdown",
   "id": "aa310737",
   "metadata": {},
   "source": [
    "6. Write a program that reads a string from the user containing a date in the form mm/dd/yyyy. It\n",
    "should print the date in the form March 12, 2021."
   ]
  },
  {
   "cell_type": "code",
   "execution_count": null,
   "id": "39b9b43d",
   "metadata": {},
   "outputs": [],
   "source": [
    "input_date = input(\"Enter the date in the format of mm/dd/yyyy\").split('/')\n",
    "if input_date[1] == '1':\n",
    "    input_date[1] = 'January'\n",
    "if input_date[1] == '2':\n",
    "    input_date[1] = 'Feburary'\n",
    "if input_date[1] == '3':\n",
    "    input_date[1] = 'March'\n",
    "if input_date[1] == '4':\n",
    "    input_date[1] = 'April'\n",
    "if input_date[1] == '5':\n",
    "    input_date[1] = 'May'\n",
    "if input_date[1] == '6':\n",
    "    input_date[1] = 'June'\n",
    "if input_date[1] == '7':\n",
    "    input_date[1] = 'July'\n",
    "if input_date[1] == '8':\n",
    "    input_date[1] = 'August'\n",
    "if input_date[1] == '9':\n",
    "    input_date[1] = 'Spetember'\n",
    "if input_date[1] == '10':\n",
    "    input_date[1] = 'October'\n",
    "if input_date[1] == '11':\n",
    "    input_date[1] = 'November'\n",
    "if input_date[1] == '12':\n",
    "    input_date[1] = 'December'\n",
    "date = '/'.join(input_date)\n",
    "print(date)"
   ]
  },
  {
   "cell_type": "markdown",
   "id": "e6ca0e05",
   "metadata": {},
   "source": [
    "7. Write a program with a function that accepts a string from keyboard and create a new string after\n",
    "converting character of each word capitalized. For instance, if the sentence is \"stop and smell the roses.\"\n",
    "the output should be \"Stop And Smell The Roses\""
   ]
  },
  {
   "cell_type": "code",
   "execution_count": null,
   "id": "40c01707",
   "metadata": {},
   "outputs": [],
   "source": [
    "def capitalize_words():\n",
    "    sentence = input(\"Enter the sentence: \").split()\n",
    "    new_sentence = [w.capitalize() for w in sentence]\n",
    "    print(new_sentence)\n",
    "    result = ' '.join(new_sentence)\n",
    "    print(result)\n",
    "\n",
    "\n",
    "capitalize_words()"
   ]
  },
  {
   "cell_type": "markdown",
   "id": "7a4b5c0e",
   "metadata": {},
   "source": [
    "8. Find the sum of each row of matrix of size m x n. \n",
    "For example for the following matrix output will be\n",
    "like this :\n",
    "\n",
    "Sum of row 1 = 32\n",
    "Sum of row 2 = 31\n",
    "Sum of row 3 = 63"
   ]
  },
  {
   "cell_type": "code",
   "execution_count": null,
   "id": "02d65661",
   "metadata": {},
   "outputs": [],
   "source": [
    "matrixA = [[1,2,3,4],\n",
    "           [4,5,6,4],\n",
    "           [7,8,9,23],]\n",
    "sum = 0\n",
    "counter = 1\n",
    "for i in matrixA:\n",
    "    for j in i:\n",
    "        sum += j\n",
    "    print(f\"Sum of Row {counter} is {sum}\")\n",
    "    counter += 1\n",
    "\n"
   ]
  },
  {
   "cell_type": "markdown",
   "id": "ea134233",
   "metadata": {},
   "source": [
    "9. Write a program to add two matrices of size n x m."
   ]
  },
  {
   "cell_type": "code",
   "execution_count": null,
   "id": "cfcf42a0",
   "metadata": {},
   "outputs": [],
   "source": [
    "def add_matrices():\n",
    "    n = int(input(\"Enter the number of rows: \"))\n",
    "    m = int(input(\"Enter the number of columns: \"))\n",
    "\n",
    "    print(\"Enter the elements for the first matrix: \")\n",
    "    A = [list(map(int , input().split(','))) for _ in range(n)]\n",
    "    print(A)\n",
    "\n",
    "    print(\"Enter the elements for the second matrix: \")\n",
    "    B = [list(map(int , input().split(','))) for _ in range(n)]\n",
    "    print(B)\n",
    "\n",
    "    C= []\n",
    "    for i in range(n):\n",
    "        C.append([])\n",
    "        for j in range(m):\n",
    "            C[i].append(A[i][j] + B[i][j])\n",
    "\n",
    "\n",
    "    print(\"Resulting Matrix:\")\n",
    "    print(C)\n",
    "\n",
    "    for i in C:\n",
    "        print(\" \".join(map(str , i)))   \n",
    "\n",
    "add_matrices()"
   ]
  },
  {
   "cell_type": "markdown",
   "id": "03cea444",
   "metadata": {},
   "source": [
    "10. Write a program to multiply two matrices"
   ]
  },
  {
   "cell_type": "code",
   "execution_count": null,
   "id": "b417dccc",
   "metadata": {},
   "outputs": [],
   "source": [
    "def mult_matrices():\n",
    "    n = int(input(\"Enter the number of rows: \"))\n",
    "    m = int(input(\"Enter the number of columns: \"))\n",
    "\n",
    "\n",
    "    print(\"Enter the elements for the first matrix: \")\n",
    "    A = []\n",
    "    for _ in range(n):\n",
    "        A.append(list(map(int, input().split(','))))\n",
    "    print(A)\n",
    "\n",
    "\n",
    "    print(\"Enter the elements for the second matrix: \")\n",
    "    B = []\n",
    "    for _ in range(n):\n",
    "        B.append(list(map(int, input().split(','))))\n",
    "    print(B)\n",
    "\n",
    "    C = []\n",
    "    for i in range(n):\n",
    "        C.append([])\n",
    "        for j in range(m):\n",
    "            C[i].append(A[i][j] * B[i][j])\n",
    "    print(\"Resultant Matrix \", C)\n",
    "\n",
    "    for i in C:\n",
    "        print(\" \".join(map(str , i)))\n",
    "        \n",
    "\n",
    "\n",
    "mult_matrices()"
   ]
  }
 ],
 "metadata": {
  "kernelspec": {
   "display_name": "smit-env",
   "language": "python",
   "name": "python3"
  },
  "language_info": {
   "codemirror_mode": {
    "name": "ipython",
    "version": 3
   },
   "file_extension": ".py",
   "mimetype": "text/x-python",
   "name": "python",
   "nbconvert_exporter": "python",
   "pygments_lexer": "ipython3",
   "version": "3.12.8"
  }
 },
 "nbformat": 4,
 "nbformat_minor": 5
}
