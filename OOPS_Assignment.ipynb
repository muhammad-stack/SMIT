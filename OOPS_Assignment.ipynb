{
 "cells": [
  {
   "cell_type": "markdown",
   "metadata": {},
   "source": [
    "1. Write a Python program to create a class called \"Person\" with properties for\n",
    "name, age and country. Include a method to display the person's details. Create\n",
    "two instances of the 'Person' class and display their details. \n"
   ]
  },
  {
   "cell_type": "code",
   "execution_count": 2,
   "metadata": {},
   "outputs": [
    {
     "name": "stdout",
     "output_type": "stream",
     "text": [
      "Name : John , Age : 36 , Country : USA\n",
      "Name : Alice , Age : 25 , Country : Canada\n"
     ]
    }
   ],
   "source": [
    "class Person:\n",
    "    def __init__(self , name , age , country):\n",
    "        self.name = name\n",
    "        self.age = age\n",
    "        self.country = country\n",
    "\n",
    "    def details(self):\n",
    "        return f\"Name : {self.name} , Age : {self.age} , Country : {self.country}\"\n",
    "    \n",
    "p1 = Person(\"John\" , 36 , \"USA\")\n",
    "p2 = Person(\"Alice\" , 25 , \"Canada\")\n",
    "\n",
    "# p1_details = p1.details()\n",
    "# p2_details = p2.details()\n",
    "\n",
    "print(p1.details())\n",
    "print(p2.details())\n"
   ]
  },
  {
   "cell_type": "markdown",
   "metadata": {},
   "source": [
    "2. Write a Python program to create a class called 'Rectangle' with properties for\n",
    "width and height. Include two methods to calculate rectangle area and perimeter.\n",
    "Create an instance of the 'Rectangle' class and calculate its area and perimeter. "
   ]
  },
  {
   "cell_type": "code",
   "execution_count": 3,
   "metadata": {},
   "outputs": [
    {
     "name": "stdout",
     "output_type": "stream",
     "text": [
      "200\n",
      "375\n",
      "60\n",
      "80\n"
     ]
    }
   ],
   "source": [
    "class Rectangle:\n",
    "    def __init__(self , height , width):\n",
    "        self.height = height\n",
    "        self.width = width\n",
    "    \n",
    "    def area(self):\n",
    "        return self.height * self.width\n",
    "    def perimeter(self):\n",
    "        return 2 * (self.height + self.width)\n",
    "    \n",
    "r1 = Rectangle(10 , 20)\n",
    "r2 = Rectangle(15 , 25)\n",
    "\n",
    "print(r1.area())\n",
    "print(r2.area())\n",
    "\n",
    "print(r1.perimeter())\n",
    "print(r2.perimeter())"
   ]
  },
  {
   "cell_type": "markdown",
   "metadata": {},
   "source": [
    "3. Write a Python program that creates a class called 'Vehicle' with properties for\n",
    "make, model, and year. Include a method to display vehicle details. Create a\n",
    "subclass called 'Car' that inherits from the 'Vehicle' class and includes an\n",
    "additional property for the number of doors. Override the display method to\n",
    "include the number of doors. \n"
   ]
  },
  {
   "cell_type": "code",
   "execution_count": 4,
   "metadata": {},
   "outputs": [
    {
     "data": {
      "text/plain": [
       "'Make : Honda , Model : Civic , Year : 2019 , Doors : 4'"
      ]
     },
     "execution_count": 4,
     "metadata": {},
     "output_type": "execute_result"
    }
   ],
   "source": [
    "class Vehicle:\n",
    "    def __init__(self , model , make , year):\n",
    "        self.make = make\n",
    "        self.model = model\n",
    "        self.year = year\n",
    "    def veh_details(self):\n",
    "        return f\"Make : {self.make} , Model : {self.model} , Year : {self.year}\"\n",
    "    \n",
    "class Car(Vehicle):\n",
    "    def __init__(self , model , make , year , doors):\n",
    "        super().__init__(model , make , year)\n",
    "        self.doors = doors\n",
    "    def car_details(self):\n",
    "        return f\"{self.veh_details()} , Doors : {self.doors}\"\n",
    "\n",
    "c1 = Car(\"Civic\" , \"Honda\" , 2019 , 4)\n",
    "c1.car_details()"
   ]
  },
  {
   "cell_type": "markdown",
   "metadata": {},
   "source": [
    "4. Write a Python program that creates a class called \"BankAccount\" with\n",
    "properties for account number and balance. Include methods to deposit and\n",
    "withdraw money from the account. Create some instances of the \"BankAccount\"\n",
    "class, deposit some money, and withdraw a portion of it. \n"
   ]
  },
  {
   "cell_type": "code",
   "execution_count": 7,
   "metadata": {},
   "outputs": [
    {
     "name": "stdout",
     "output_type": "stream",
     "text": [
      "7000\n"
     ]
    },
    {
     "data": {
      "text/plain": [
       "6000"
      ]
     },
     "execution_count": 7,
     "metadata": {},
     "output_type": "execute_result"
    }
   ],
   "source": [
    "class BankAccount:\n",
    "    def __init__(self, acc_no, balance):\n",
    "        self.account_number = acc_no\n",
    "        self.balance = balance  \n",
    "\n",
    "    def deposit(self, amount):\n",
    "        if amount > 0:\n",
    "            self.balance += amount\n",
    "            return self.balance\n",
    "        else:\n",
    "            return \"The value must be greater than zero\"\n",
    "    def withdraw(self, amount):\n",
    "        if amount > self.balance:\n",
    "            return \"Insufficient Funds\"\n",
    "        self.balance -= amount\n",
    "        return self.balance\n",
    "    \n",
    "b1 = BankAccount(1234, 5000)\n",
    "print(b1.deposit(2000))\n",
    "b1.withdraw(1000)"
   ]
  },
  {
   "cell_type": "markdown",
   "metadata": {},
   "source": [
    "5. Write a Python program that creates a class called 'Shape' with a method to\n",
    "calculate the area. Create two subclasses, 'Circle' and 'Triangle', that inherit from\n",
    "the 'Shape' class and override the area calculation method. Create an instance of\n",
    "the 'Circle' class and calculate its area. Similarly, do the same for the 'Triangle'\n",
    "class. "
   ]
  },
  {
   "cell_type": "code",
   "execution_count": 8,
   "metadata": {},
   "outputs": [
    {
     "name": "stdout",
     "output_type": "stream",
     "text": [
      "100.0\n",
      "314.0\n"
     ]
    }
   ],
   "source": [
    "class Shape:\n",
    "    def __init__(self, height , width):\n",
    "        self.height = height\n",
    "        self.width = width\n",
    "    def area(self):\n",
    "        return self.height * self.width\n",
    "    \n",
    "class Triangle(Shape):\n",
    "    def __init__(self, height, width):\n",
    "        super().__init__(height, width)\n",
    "    def area(self):\n",
    "        return 0.5 * self.height * self.width\n",
    "    \n",
    "class Circle(Shape):\n",
    "    def __init__(self,height, width):\n",
    "        super().__init__(height, width)\n",
    "    def area(self):\n",
    "        return 3.14 * self.height * self.width\n",
    "    \n",
    "t1 = Triangle(10, 20)\n",
    "c1 = Circle(10, 10)\n",
    "\n",
    "print(t1.area())\n",
    "print(c1.area())\n",
    "        "
   ]
  },
  {
   "cell_type": "markdown",
   "metadata": {},
   "source": [
    "6. Write a Python program that creates a class called 'Employee' with properties\n",
    "for name and salary. Include a method to calculate annual salary. Create a\n",
    "subclass called 'Manager' that inherits from the 'Employee' class and adds an\n",
    "additional property for department. Override the annual salary calculation method\n",
    "to include bonuses for managers. Create two instances of the 'Manager' class\n",
    "and calculate their annual salary. \n"
   ]
  },
  {
   "cell_type": "code",
   "execution_count": 11,
   "metadata": {},
   "outputs": [
    {
     "name": "stdout",
     "output_type": "stream",
     "text": [
      "70000\n",
      "82000\n"
     ]
    }
   ],
   "source": [
    "class Employee:\n",
    "    def __init__(self, name, salary):\n",
    "        self.name = name \n",
    "        self.salary = salary\n",
    "    \n",
    "    def annual_salary(self):\n",
    "        return self.salary * 12\n",
    "\n",
    "class Manager(Employee):\n",
    "    bonuses = 10000\n",
    "    def __init__(self, name, salary, department):\n",
    "        super().__init__(name, salary)\n",
    "        self.department = department\n",
    "    \n",
    "    def annual_salary(self):\n",
    "        return self.salary * 12 + self.bonuses\n",
    "    \n",
    "m1 = Manager(\"John\", 5000, \"IT\")\n",
    "m2 = Manager(\"Alice\", 6000, \"HR\")\n",
    "\n",
    "print(m1.annual_salary())\n",
    "\n",
    "print(m2.annual_salary())"
   ]
  },
  {
   "cell_type": "markdown",
   "metadata": {},
   "source": [
    "7. Write a Python program that creates a class `Book` with properties for title,\n",
    "author, and publication year. Include a method to display book details. Create a\n",
    "subclass called 'Ebook' that inherits from the 'Book' class and includes an\n",
    "additional property for book price. Override the display method to include the\n",
    "book price. Create an instance of the 'Ebook' class and display its details. "
   ]
  },
  {
   "cell_type": "code",
   "execution_count": 23,
   "metadata": {},
   "outputs": [
    {
     "data": {
      "text/plain": [
       "'Title : Python Programming , Author : John Doe , Publication Year : 2019, Price : 50'"
      ]
     },
     "execution_count": 23,
     "metadata": {},
     "output_type": "execute_result"
    }
   ],
   "source": [
    "class Book:\n",
    "    def __init__(self, title, author , publication_year):\n",
    "        self.title = title\n",
    "        self.author = author\n",
    "        self.publication_year = publication_year\n",
    "\n",
    "    def details(self):\n",
    "        return f\"Title : {self.title} , Author : {self.author} , Publication Year : {self.publication_year}\"\n",
    "    \n",
    "class EBook(Book):\n",
    "    def __init__(self, title, author, publication_year,book_price):\n",
    "        super().__init__(title, author, publication_year)\n",
    "        self.book_price = book_price\n",
    "\n",
    "    def details(self):\n",
    "        return super().details() +  f\", Price : {self.book_price}\"\n",
    "    \n",
    "e1 = EBook(\"Python Programming\", \"John Doe\", 2019, 50)\n",
    "e1.details()"
   ]
  },
  {
   "cell_type": "markdown",
   "metadata": {},
   "source": [
    "8. Write a Python program that creates a class called 'Animal' with properties for\n",
    "species and sound. Include a method to make the animal's sound. Create a\n",
    "subclass called 'Dog' that inherits from the 'Animal' class and adds an additional\n",
    "property for color. Override the make sound method to include the dog's color.\n",
    "Create an instance of the 'Dog' class and make it make its sound. "
   ]
  },
  {
   "cell_type": "code",
   "execution_count": 25,
   "metadata": {},
   "outputs": [
    {
     "data": {
      "text/plain": [
       "'A Dog sounds Bark is of this color Brown'"
      ]
     },
     "execution_count": 25,
     "metadata": {},
     "output_type": "execute_result"
    }
   ],
   "source": [
    "class Animal:\n",
    "    def __init__(self, sound, species):\n",
    "        self.sound = sound\n",
    "        self.species = species\n",
    "    def make_sound(self):\n",
    "        return f\"A {self.species} sounds {self.sound}\"\n",
    "\n",
    "class Dog(Animal):\n",
    "    def __init__(self, sound, species ,color):\n",
    "        super().__init__(sound, species)\n",
    "        self.color = color\n",
    "    def make_sound(self):\n",
    "        return super().make_sound() +  f\" is of this color {self.color}\"\n",
    "    \n",
    "d1 = Dog(\"Bark\", \"Dog\", \"Brown\")\n",
    "d1.make_sound()"
   ]
  },
  {
   "cell_type": "markdown",
   "metadata": {},
   "source": [
    "9. Write a Python program that creates a class called Bank with properties for\n",
    "bank names and branches. Include methods to add a branch, remove a branch,\n",
    "and display all branches. Create an instance of the Bank class and perform\n",
    "operations to add and remove branches. \n"
   ]
  },
  {
   "cell_type": "code",
   "execution_count": 28,
   "metadata": {},
   "outputs": [
    {
     "data": {
      "text/plain": [
       "['Branch2', 'Branch3']"
      ]
     },
     "execution_count": 28,
     "metadata": {},
     "output_type": "execute_result"
    }
   ],
   "source": [
    "class Bank:\n",
    "    def __init__(self, names : list[str], branches:list[str]):\n",
    "        self.names = names\n",
    "        self.branches = branches\n",
    "    def add_branch(self, branch):\n",
    "        self.branches.append(branch)\n",
    "    def remove_branch(self, branch):\n",
    "        self.branches.remove(branch)\n",
    "    def diplay_branches(self):\n",
    "        return self.branches\n",
    "    \n",
    "b1 = Bank([\"John\", \"Alice\"], [\"Branch1\", \"Branch2\"])\n",
    "b1.add_branch(\"Branch3\")\n",
    "b1.remove_branch(\"Branch1\")\n",
    "b1.diplay_branches()"
   ]
  },
  {
   "cell_type": "markdown",
   "metadata": {},
   "source": [
    "10. Write a Python program that creates a class called Product with properties for\n",
    "product ID, name, and price. Include a method to calculate the total price by\n",
    "multiplying the price by the quantity. Create a subclass called\n",
    "PersonalCareProduct that inherits from the Product class and adds an additional\n",
    "property for the warranty period. Override the total price calculation method to\n",
    "include the warranty period. Create an instance of the PersonalCareProduct\n",
    "class and calculate its total price. "
   ]
  },
  {
   "cell_type": "code",
   "execution_count": 29,
   "metadata": {},
   "outputs": [
    {
     "data": {
      "text/plain": [
       "51"
      ]
     },
     "execution_count": 29,
     "metadata": {},
     "output_type": "execute_result"
    }
   ],
   "source": [
    "class Product:\n",
    "    def __init__(self, product, ID, name, price, quantity):\n",
    "        self.product = product \n",
    "        self.ID = ID\n",
    "        self.name = name \n",
    "        self.price = price \n",
    "        self.quantity = quantity\n",
    "\n",
    "    def total(self):\n",
    "        return self.price * self.quantity\n",
    "    \n",
    "class PersonalCareProducts(Product):\n",
    "    def __init__(self, product, ID, name, price, quantity , warranty):\n",
    "        super().__init__(product, ID, name, price, quantity)\n",
    "        self.warranty = warranty\n",
    "    def total(self):\n",
    "        return super().total() + self.warranty\n",
    "    \n",
    "p1 = PersonalCareProducts(\"Shampoo\", 1234, \"Dove\", 10, 5, 1)\n",
    "p1.total()\n",
    "    "
   ]
  }
 ],
 "metadata": {
  "kernelspec": {
   "display_name": "smit-env",
   "language": "python",
   "name": "python3"
  },
  "language_info": {
   "codemirror_mode": {
    "name": "ipython",
    "version": 3
   },
   "file_extension": ".py",
   "mimetype": "text/x-python",
   "name": "python",
   "nbconvert_exporter": "python",
   "pygments_lexer": "ipython3",
   "version": "3.12.8"
  }
 },
 "nbformat": 4,
 "nbformat_minor": 2
}
