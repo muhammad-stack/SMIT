{
 "cells": [
  {
   "cell_type": "markdown",
   "id": "dac9aaa7-e1db-4e89-a8d9-73641ba09868",
   "metadata": {},
   "source": [
    " 15. Write a Python program that prompts the user to enter a base number and an\n",
    "        exponent, and then calculates the power of the base to the exponent. The program\n",
    "        should not use the exponentiation operator (**) or the math.pow() function. The\n",
    "        program should handle both positive and negative exponents."
   ]
  },
  {
   "cell_type": "code",
   "execution_count": 36,
   "id": "6b642570-bc03-4447-b441-f38ae2a420ca",
   "metadata": {},
   "outputs": [],
   "source": [
    "def calculate_exponent(number , exponent):\n",
    "    s =1\n",
    "    for i in range(exponent):\n",
    "        s = s* number\n",
    "    print(s)\n"
   ]
  },
  {
   "cell_type": "code",
   "execution_count": 37,
   "id": "8bae4e32-a248-4317-a05a-b455031df655",
   "metadata": {},
   "outputs": [
    {
     "name": "stdout",
     "output_type": "stream",
     "text": [
      "9\n"
     ]
    }
   ],
   "source": [
    "calculate_exponent(3,2 )"
   ]
  },
  {
   "cell_type": "markdown",
   "id": "e7aa6452-79a0-4f0f-9c1f-ce6fcfc58424",
   "metadata": {},
   "source": [
    "# File : Reading and writing  Text Files I/O Stream"
   ]
  },
  {
   "cell_type": "code",
   "execution_count": 5,
   "id": "b9ea0a5f-abc4-4935-a7ee-6de91e9005f3",
   "metadata": {},
   "outputs": [
    {
     "name": "stdout",
     "output_type": "stream",
     "text": [
      "The information in this email is confidential and may be legally privileged. Access to this email by\n",
      "\n",
      "anyone other than the intended addressee is unauthorized. If you are not the intended recipient of\n",
      "\n",
      "this message, any review, disclosure, copying, distribution, retention, or any action taken or omitted\n",
      "\n",
      "to be taken in reliance on it is prohibited and may be unlawful. If you are not the intended recipient,\n",
      "\n",
      "please reply to or forward a copy of this message to the sender and delete the message, any\n",
      "\n",
      "attachments, and any copies thereof from your system.\n"
     ]
    }
   ],
   "source": [
    "try:    \n",
    "    f = open('sample.txt', 'r')\n",
    "    cont = f.read()\n",
    "    print(cont)\n",
    "\n",
    "except FileNotFoundError:\n",
    "    print(\"The file you are looking for is not in this directory\")\n",
    "finally:\n",
    "    f.close()"
   ]
  },
  {
   "cell_type": "code",
   "execution_count": 7,
   "id": "1b2618f9-0585-4842-b23b-986e8077f034",
   "metadata": {},
   "outputs": [],
   "source": [
    "try:    \n",
    "    f = open('sample.txt', 'w')\n",
    "    f.write(\"This is a sample file\")\n",
    "\n",
    "except FileNotFoundError:\n",
    "    print(\"The file you are looking for in not in this directory\")\n",
    "finally:\n",
    "    f.close()"
   ]
  },
  {
   "cell_type": "code",
   "execution_count": 8,
   "id": "2df3c20e-00e3-4636-b6b6-95a16928e8f3",
   "metadata": {},
   "outputs": [
    {
     "name": "stdout",
     "output_type": "stream",
     "text": [
      "This is a sample file\n"
     ]
    }
   ],
   "source": [
    "try:    \n",
    "    f = open('sample.txt', 'r')\n",
    "    cont = f.read()\n",
    "    print(cont)\n",
    "\n",
    "except FileNotFoundError:\n",
    "    print(\"The file you are looking for in not in this directory\")\n",
    "finally:\n",
    "    f.close()"
   ]
  },
  {
   "cell_type": "code",
   "execution_count": 14,
   "id": "711028f9-21dc-43a1-a593-f30008c3c038",
   "metadata": {},
   "outputs": [],
   "source": [
    "try:    \n",
    "    f = open('sample2.txt', 'w')\n",
    "    f.write(\"This is a sample file\\n\\n\")\n",
    "    f.write(\"This ia sample file line2\")\n",
    "\n",
    "except FileNotFoundError:\n",
    "    print(\"The file you are looking for in not in this directory\")\n",
    "finally:\n",
    "    f.close()"
   ]
  },
  {
   "cell_type": "code",
   "execution_count": 15,
   "id": "6905a5c5-327b-438a-892e-762b764e8265",
   "metadata": {},
   "outputs": [
    {
     "name": "stdout",
     "output_type": "stream",
     "text": [
      "This is a sample file\n",
      "\n",
      "This ia sample file line2\n"
     ]
    }
   ],
   "source": [
    "try:    \n",
    "    f = open('sample2.txt', 'r')\n",
    "    cont = f.read()\n",
    "    print(cont)\n",
    "\n",
    "except FileNotFoundError:\n",
    "    print(\"The file you are looking for in not in this directory\")\n",
    "finally:\n",
    "    f.close()"
   ]
  },
  {
   "cell_type": "markdown",
   "id": "ab9bc6b8-f4b7-4716-8276-87703848a0c1",
   "metadata": {},
   "source": [
    "# Context Manager"
   ]
  },
  {
   "cell_type": "code",
   "execution_count": 16,
   "id": "2c93b913-d768-4952-a875-32bb9c3b4b2f",
   "metadata": {},
   "outputs": [],
   "source": [
    "with open(\"samplefile3.txt\",\"w\") as f:\n",
    "    f.write(\"Hello1 \\n\")\n",
    "    f.write(\"Hello2 \\n\")\n",
    "    f.write(\"Hello3 \\n\")\n",
    "    f.write(\"Hello4 \\n\")\n",
    "    f.write(\"Hello5 \\n\")\n"
   ]
  },
  {
   "cell_type": "code",
   "execution_count": 17,
   "id": "c250307c-ef61-42c9-9a05-91449e1ee89c",
   "metadata": {},
   "outputs": [
    {
     "name": "stdout",
     "output_type": "stream",
     "text": [
      "Hello1 \n",
      "Hello2 \n",
      "Hello3 \n",
      "Hello4 \n",
      "Hello5 \n",
      "\n"
     ]
    }
   ],
   "source": [
    "with open(\"samplefile3.txt\",\"r\") as f:\n",
    "    print(f.read())"
   ]
  },
  {
   "cell_type": "code",
   "execution_count": 18,
   "id": "56edfd23-b6ea-4379-a552-708fa139c497",
   "metadata": {},
   "outputs": [],
   "source": [
    "with open('samplefile3.txt', 'a') as f:\n",
    "    f.write(\"This Hello6\")\n",
    "   "
   ]
  },
  {
   "cell_type": "code",
   "execution_count": 19,
   "id": "89a71212-7342-4b12-8327-c3de75d272f1",
   "metadata": {},
   "outputs": [
    {
     "name": "stdout",
     "output_type": "stream",
     "text": [
      "Hello1 \n",
      "Hello2 \n",
      "Hello3 \n",
      "Hello4 \n",
      "Hello5 \n",
      "This Hello6\n"
     ]
    }
   ],
   "source": [
    "with open(\"samplefile3.txt\",\"r\") as f:\n",
    "    print(f.read())"
   ]
  },
  {
   "cell_type": "code",
   "execution_count": 21,
   "id": "dcc5f4d0-8517-4638-b7e8-9bd608cc0cb5",
   "metadata": {},
   "outputs": [
    {
     "name": "stdout",
     "output_type": "stream",
     "text": [
      "Hello1 \n",
      "\n"
     ]
    }
   ],
   "source": [
    "with open('samplefile3.txt') as f:\n",
    "    print(f.readline())"
   ]
  },
  {
   "cell_type": "code",
   "execution_count": 22,
   "id": "d044371b-8927-459e-aaa7-bdfd180a9d3f",
   "metadata": {},
   "outputs": [
    {
     "name": "stdout",
     "output_type": "stream",
     "text": [
      "['Hello1 \\n', 'Hello2 \\n', 'Hello3 \\n', 'Hello4 \\n', 'Hello5 \\n', 'This Hello6']\n"
     ]
    }
   ],
   "source": [
    "with open('samplefile3.txt') as f:\n",
    "    print(f.readlines())"
   ]
  },
  {
   "cell_type": "code",
   "execution_count": 26,
   "id": "2ec38714-a8c4-4a1e-8d76-50203456f9ce",
   "metadata": {},
   "outputs": [
    {
     "name": "stdout",
     "output_type": "stream",
     "text": [
      "Hello1 \n",
      "Hello2 \n",
      "Hello3 \n",
      "Hello4 \n",
      "This Hello6"
     ]
    }
   ],
   "source": [
    "with open('samplefile3.txt') as f:\n",
    "    for line in f:\n",
    "        if \"5\" in line:\n",
    "            continue\n",
    "        print(line, end='')"
   ]
  },
  {
   "cell_type": "code",
   "execution_count": 24,
   "id": "ef226a58-7e65-451b-ab97-3901ecbe5828",
   "metadata": {},
   "outputs": [
    {
     "name": "stdout",
     "output_type": "stream",
     "text": [
      "Hello1 \n",
      "Hello2 \n",
      "Hello3 \n",
      "Hello4 \n",
      "Hello5 \n",
      "This Hello6\n"
     ]
    }
   ],
   "source": [
    "with open(\"samplefile3.txt\",\"r\") as f:\n",
    "    print(f.read())"
   ]
  },
  {
   "cell_type": "code",
   "execution_count": 29,
   "id": "f6830b4e-ef2e-48e8-9498-5810ece94664",
   "metadata": {},
   "outputs": [],
   "source": [
    "with open(\"samplefile3.txt\",\"a\") as f:\n",
    "    f.writelines(['Say1\\n', 'Say2\\n', \"Say3\\n\"])"
   ]
  },
  {
   "cell_type": "code",
   "execution_count": 30,
   "id": "d486b120-82b3-4c28-9492-c94c9db50317",
   "metadata": {},
   "outputs": [
    {
     "name": "stdout",
     "output_type": "stream",
     "text": [
      "Hello1 \n",
      "Hello2 \n",
      "Hello3 \n",
      "Hello4 \n",
      "Hello5 \n",
      "This Hello6Say1Say2Say3Say1\n",
      "Say2\n",
      "Say3\n",
      "\n"
     ]
    }
   ],
   "source": [
    "with open(\"samplefile3.txt\",\"r\") as f:\n",
    "    print(f.read())"
   ]
  },
  {
   "cell_type": "code",
   "execution_count": 45,
   "id": "e55dcde6-e498-4171-9b0f-20348f7bfab2",
   "metadata": {},
   "outputs": [
    {
     "name": "stdout",
     "output_type": "stream",
     "text": [
      "This is a sample file\n",
      " This is line2\n",
      " This is line2\n",
      " This is line2\n",
      "This is line3\n",
      " This is line2\n",
      "This is line3\n",
      "\n",
      "\n"
     ]
    }
   ],
   "source": [
    "with open(\"sample.txt\", 'r+') as f:\n",
    "    print(f.read())\n",
    "    f.write(\"\\n This is line2\")\n",
    "    print(f.read())\n",
    "    f.write(\"\\nThis is line3\")\n",
    "    print(f.read())"
   ]
  },
  {
   "cell_type": "code",
   "execution_count": 44,
   "id": "e623589b-8a34-4c6a-b656-c810e401f980",
   "metadata": {},
   "outputs": [
    {
     "name": "stdout",
     "output_type": "stream",
     "text": [
      "w sample line1\n"
     ]
    }
   ],
   "source": [
    "with open(\"newsample.txt\", 'w+') as f:\n",
    "    f.write(\"This is new sample line1\")\n",
    "    f.seek(10)\n",
    "    print(f.read())"
   ]
  },
  {
   "cell_type": "markdown",
   "id": "1ba64c36-2db5-40b2-a24a-e78456bfc0af",
   "metadata": {},
   "source": [
    "# You are a hotel manager:\n",
    "    guest check in \n",
    "    guest check out"
   ]
  },
  {
   "cell_type": "code",
   "execution_count": 74,
   "id": "95b2c92d-d349-4bbe-a22a-8e39c6019b47",
   "metadata": {},
   "outputs": [
    {
     "name": "stdout",
     "output_type": "stream",
     "text": [
      "Ali\n",
      "Imran\n",
      "Asim\n",
      "Bhutto\n",
      "Asif\n",
      "\n"
     ]
    }
   ],
   "source": [
    "guests = ['Ali', 'Imran', 'Asim','Bhutto','Asif']\n",
    "with open(\"guests1.txt\", 'w+') as f:\n",
    "    for guest in (guests):\n",
    "        f.write(f\"{guest}\\n\")\n",
    "    f.seek(0)\n",
    "    print(f.read())"
   ]
  },
  {
   "cell_type": "code",
   "execution_count": 75,
   "id": "3cef5405-fcaa-46be-b7d6-be1c9f7c7562",
   "metadata": {},
   "outputs": [],
   "source": [
    "check_out = ['Asif', 'Bhutto']"
   ]
  },
  {
   "cell_type": "code",
   "execution_count": 77,
   "id": "ee2c7703-c458-4edd-97f2-41efb119f12e",
   "metadata": {},
   "outputs": [
    {
     "name": "stdout",
     "output_type": "stream",
     "text": [
      "Ali\n",
      "Imran\n",
      "Asim\n",
      "Bhutto\n",
      "Asif\n",
      "Ali\n",
      "\n",
      "Imran\n",
      "\n",
      "Asim\n",
      "\n",
      "Bhutto\n",
      "\n",
      "Asif\n",
      "\n",
      "Ali\n",
      "\n",
      "Imran\n",
      "\n",
      "Asim\n",
      "\n",
      "Bhutto\n",
      "\n",
      "Asif\n",
      "\n",
      "Ali\n",
      "\n",
      "\n",
      "\n",
      "Imran\n",
      "\n",
      "\n",
      "\n",
      "Asim\n",
      "\n",
      "\n",
      "\n",
      "Bhutto\n",
      "\n",
      "\n",
      "\n",
      "Asif\n",
      "\n",
      "\n",
      "\n",
      "\n"
     ]
    }
   ],
   "source": [
    "temp_guests = []\n",
    "with open(\"guests1.txt\", 'r+') as f:\n",
    "    for line in f:\n",
    "        temp_guests.append(line)\n",
    "    for guest in temp_guests:\n",
    "        if f\"{guest}\\n\" not in check_out:\n",
    "            f.write(f\"{guest}\\n\")\n",
    "    f.seek(0)\n",
    "    print(f.read())"
   ]
  },
  {
   "cell_type": "code",
   "execution_count": 62,
   "id": "909882c0-0294-44c8-9687-24b43f40a0f7",
   "metadata": {},
   "outputs": [
    {
     "data": {
      "text/plain": [
       "[]"
      ]
     },
     "execution_count": 62,
     "metadata": {},
     "output_type": "execute_result"
    }
   ],
   "source": [
    "temp_guests"
   ]
  },
  {
   "cell_type": "code",
   "execution_count": 67,
   "id": "d7238cb1-32cc-49b9-a5e4-aa2579243c27",
   "metadata": {},
   "outputs": [],
   "source": [
    "with open(\"guests1.txt\", 'r+') as f:\n",
    "    for line in f:\n",
    "        temp_guests.append(line)"
   ]
  },
  {
   "cell_type": "code",
   "execution_count": 73,
   "id": "76ef9404-c38b-4605-ae7a-d7d38b72757f",
   "metadata": {},
   "outputs": [
    {
     "data": {
      "text/plain": [
       "['1- Ali\\n', '2- Imran\\n', '3- Asim\\n', '4- Bhutto\\n', '5- Asif\\n']"
      ]
     },
     "execution_count": 73,
     "metadata": {},
     "output_type": "execute_result"
    }
   ],
   "source": [
    "temp_guests"
   ]
  },
  {
   "cell_type": "code",
   "execution_count": 80,
   "id": "4f35ee58-cee0-48da-b157-fe96438f8e4f",
   "metadata": {},
   "outputs": [],
   "source": [
    "checked_out=[\"Ali\", \"Bhutto\"]\n",
    "temp_list=[]\n",
    "\n",
    "with open(\"guests1.txt\", 'r') as guests:\n",
    "    for g in guests:\n",
    "        temp_list.append(g.strip())\n",
    "\n",
    "with open(\"guests1.txt\", 'w+') as guests:\n",
    "    for name in temp_list:\n",
    "        if name not in checked_out:\n",
    "            guests.write(name + \"\\n\")"
   ]
  },
  {
   "cell_type": "code",
   "execution_count": 82,
   "id": "a84c790d-ef9d-4ddf-a67c-57c62f0cf072",
   "metadata": {},
   "outputs": [
    {
     "name": "stdout",
     "output_type": "stream",
     "text": [
      "Imran\n",
      "Asim\n",
      "Asif\n",
      "\n",
      "Imran\n",
      "\n",
      "Asim\n",
      "\n",
      "\n",
      "Asif\n",
      "\n",
      "\n",
      "Imran\n",
      "\n",
      "Asim\n",
      "\n",
      "\n",
      "Asif\n",
      "\n",
      "\n",
      "\n",
      "\n",
      "Imran\n",
      "\n",
      "\n",
      "\n",
      "Asim\n",
      "\n",
      "\n",
      "\n",
      "\n",
      "\n",
      "\n",
      "Asif\n",
      "\n",
      "\n",
      "\n"
     ]
    }
   ],
   "source": [
    "with open(\"guests1.txt\", 'r') as f:\n",
    "    for line in f:\n",
    "        print(line, end=\"\")"
   ]
  },
  {
   "cell_type": "code",
   "execution_count": null,
   "id": "55c80684-ef03-4336-ac39-a1a4c1f4fc46",
   "metadata": {},
   "outputs": [],
   "source": []
  }
 ],
 "metadata": {
  "kernelspec": {
   "display_name": "smit-env",
   "language": "python",
   "name": "python3"
  },
  "language_info": {
   "codemirror_mode": {
    "name": "ipython",
    "version": 3
   },
   "file_extension": ".py",
   "mimetype": "text/x-python",
   "name": "python",
   "nbconvert_exporter": "python",
   "pygments_lexer": "ipython3",
   "version": "3.12.8"
  }
 },
 "nbformat": 4,
 "nbformat_minor": 5
}
