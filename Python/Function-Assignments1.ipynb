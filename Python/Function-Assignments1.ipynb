{
 "cells": [
  {
   "cell_type": "markdown",
   "metadata": {},
   "source": [
    "1. Write a Python function to find the maximum of three numbers. \n"
   ]
  },
  {
   "cell_type": "code",
   "execution_count": 1,
   "metadata": {},
   "outputs": [],
   "source": [
    "def find_max(numbers : list[int]):\n",
    "    max  = numbers[0]\n",
    "\n",
    "    for number in numbers:\n",
    "        if number > max:\n",
    "            max = number\n",
    "    print(max)"
   ]
  },
  {
   "cell_type": "code",
   "execution_count": 2,
   "metadata": {},
   "outputs": [
    {
     "name": "stdout",
     "output_type": "stream",
     "text": [
      "10\n"
     ]
    }
   ],
   "source": [
    "find_max([1, 2, 3, 4, 5, 6, 7, 8, 9, 10])"
   ]
  },
  {
   "cell_type": "markdown",
   "metadata": {},
   "source": [
    "2. Write a Python function to sum all the numbers in a list. \n",
    "Sample List : (8, 2, 3, 0, 7) \n",
    "Expected Output : 20 \n"
   ]
  },
  {
   "cell_type": "code",
   "execution_count": 5,
   "metadata": {},
   "outputs": [],
   "source": [
    "def sum(numbers:list[int] ):\n",
    "    sum =0 \n",
    "    for i in numbers:\n",
    "        sum += i\n",
    "    print(sum)"
   ]
  },
  {
   "cell_type": "code",
   "execution_count": 4,
   "metadata": {},
   "outputs": [
    {
     "name": "stdout",
     "output_type": "stream",
     "text": [
      "55\n"
     ]
    }
   ],
   "source": [
    "sum([1, 2, 3, 4, 5, 6, 7, 8, 9, 10])"
   ]
  },
  {
   "cell_type": "markdown",
   "metadata": {},
   "source": [
    "3. Write a Python function to multiply all the numbers in a list. \n",
    "Sample List : (8, 2, 3, -1, 7) \n",
    "Expected Output : -336 \n"
   ]
  },
  {
   "cell_type": "code",
   "execution_count": 6,
   "metadata": {},
   "outputs": [
    {
     "name": "stdout",
     "output_type": "stream",
     "text": [
      "3628800\n"
     ]
    }
   ],
   "source": [
    "def multiply(numbers : list[int]):\n",
    "    number = 1 \n",
    "    for i in numbers:\n",
    "        number *= i\n",
    "    print(number)\n",
    "\n",
    "multiply([1, 2, 3, 4, 5, 6, 7, 8, 9, 10])"
   ]
  },
  {
   "cell_type": "markdown",
   "metadata": {},
   "source": [
    "4. Write a Python program to reverse a string. \n",
    "Sample String : \"1234abcd\" \n",
    "Expected Output : \"dcba4321\" \n"
   ]
  },
  {
   "cell_type": "code",
   "execution_count": 1,
   "metadata": {},
   "outputs": [
    {
     "name": "stdout",
     "output_type": "stream",
     "text": [
      "dlroW olleH\n"
     ]
    }
   ],
   "source": [
    "def reverse(sample : str):\n",
    "    reversed = sample[::-1]\n",
    "    print(reversed)\n",
    "\n",
    "reverse(\"Hello World\")"
   ]
  },
  {
   "cell_type": "markdown",
   "metadata": {},
   "source": [
    "5. Write a Python function to calculate the factorial of a number (a non-negative \n",
    "integer). The function accepts the number as an argument."
   ]
  },
  {
   "cell_type": "code",
   "execution_count": 8,
   "metadata": {},
   "outputs": [
    {
     "data": {
      "text/plain": [
       "120"
      ]
     },
     "execution_count": 8,
     "metadata": {},
     "output_type": "execute_result"
    }
   ],
   "source": [
    "# finding the factorial without using factorial function\n",
    "def factorial(n : int):\n",
    "    fact = 1\n",
    "    if n < 0:\n",
    "        return (\"factorial does not exist for negative numbers\")\n",
    "    elif n == 0:\n",
    "        return \"1\"\n",
    "    for i in range(1, n+1):\n",
    "        fact *= i\n",
    "    return(fact)\n",
    "\n",
    "factorial(5)"
   ]
  },
  {
   "cell_type": "markdown",
   "metadata": {},
   "source": [
    "6. Write a Python function to check whether a number falls within a given range"
   ]
  },
  {
   "cell_type": "code",
   "execution_count": 14,
   "metadata": {},
   "outputs": [
    {
     "name": "stdout",
     "output_type": "stream",
     "text": [
      "False\n"
     ]
    }
   ],
   "source": [
    "\n",
    "def with_in_range(start : int , end : int , number : int):\n",
    "\n",
    "    \"\"\"\" Check if a number is within a given range \"\"\"\n",
    "\n",
    "    return   end > number >= start\n",
    "\n",
    "print(with_in_range(1, 10, 15))"
   ]
  },
  {
   "cell_type": "markdown",
   "metadata": {},
   "source": [
    "7. Write a Python function that accepts a string and counts the number of upper \n",
    "and lower case letters. \n",
    "Sample String : 'The quick Brow Fox' \n",
    "Expected Output : \n",
    "No. of Upper case characters : 3 \n",
    "No. of Lower case Characters : 12 \n"
   ]
  },
  {
   "cell_type": "code",
   "execution_count": 16,
   "metadata": {},
   "outputs": [
    {
     "name": "stdout",
     "output_type": "stream",
     "text": [
      "Upper case characters: 3\n",
      "Lower case characters: 12\n"
     ]
    }
   ],
   "source": [
    "def func(string : str):\n",
    "    upper = 0\n",
    "    lower = 0\n",
    "    for char in string:\n",
    "        if char.isupper():\n",
    "            upper += 1\n",
    "        elif char.islower():\n",
    "            lower += 1\n",
    "        else:\n",
    "            continue\n",
    "    print(f\"Upper case characters: {upper}\")\n",
    "    print(f\"Lower case characters: {lower}\")\n",
    "func('The quick Brow Fox')"
   ]
  },
  {
   "cell_type": "markdown",
   "metadata": {},
   "source": [
    "8. Write a Python function that takes a list and returns a new list with distinct \n",
    "elements from the first list. \n",
    "Sample List : [1,2,3,3,3,3,4,5] \n",
    "Unique List : [1, 2, 3, 4, 5] \n"
   ]
  },
  {
   "cell_type": "code",
   "execution_count": 17,
   "metadata": {},
   "outputs": [
    {
     "data": {
      "text/plain": [
       "[1, 2, 3, 4, 5, 6, 7, 8, 9, 10]"
      ]
     },
     "execution_count": 17,
     "metadata": {},
     "output_type": "execute_result"
    }
   ],
   "source": [
    "def function(lists : list[int]):\n",
    "\n",
    "    sets = set(lists)\n",
    "    return list(sets)\n",
    "\n",
    "function([1, 2, 3, 4, 5, 6, 7, 8, 9, 10, 1, 2, 3, 4, 5])"
   ]
  },
  {
   "cell_type": "markdown",
   "metadata": {},
   "source": [
    "9. Write a Python function that takes a number as a parameter and checks \n",
    "whether the number is prime or not. \n",
    "Note : A prime number (or a prime) is a natural number greater than 1 and that \n",
    "has no positive divisors other than 1 and itself"
   ]
  },
  {
   "cell_type": "code",
   "execution_count": 4,
   "metadata": {},
   "outputs": [
    {
     "name": "stdout",
     "output_type": "stream",
     "text": [
      "3\n",
      "False\n",
      "4\n",
      "False\n"
     ]
    }
   ],
   "source": [
    "def is_prime(n: int) -> bool:\n",
    "    if n <= 1:\n",
    "        return False\n",
    "    for i in range(2, int(n**0.5) + 1):\n",
    "        print(int(n ** 0.5) + 1)\n",
    "        if n % i == 0:\n",
    "            return False\n",
    "    return True\n",
    "\n",
    "# Example usage\n",
    "print(is_prime(4))  # Output: True\n",
    "print(is_prime(10)) # Output: False"
   ]
  },
  {
   "cell_type": "code",
   "execution_count": 5,
   "metadata": {},
   "outputs": [
    {
     "name": "stdout",
     "output_type": "stream",
     "text": [
      "3\n"
     ]
    },
    {
     "data": {
      "text/plain": [
       "True"
      ]
     },
     "execution_count": 5,
     "metadata": {},
     "output_type": "execute_result"
    }
   ],
   "source": [
    "is_prime(7)"
   ]
  },
  {
   "cell_type": "markdown",
   "metadata": {},
   "source": [
    "10. Write a Python program to print the even numbers from a given list.\n",
    "Sample List : [1, 2, 3, 4, 5, 6, 7, 8, 9]\n",
    "Expected Result : [2, 4, 6, 8] \n"
   ]
  },
  {
   "cell_type": "code",
   "execution_count": 6,
   "metadata": {},
   "outputs": [
    {
     "name": "stdout",
     "output_type": "stream",
     "text": [
      "[2, 4, 6, 8, 8, 10]\n"
     ]
    }
   ],
   "source": [
    "def is_even(numbers : list[int]):\n",
    "    evens = []\n",
    "    for i in numbers:\n",
    "        if i % 2 == 0:\n",
    "            evens.append(i)\n",
    "    print(evens)\n",
    "\n",
    "\n",
    "is_even([1,2,3,4,5,6,7,8,8,10])"
   ]
  },
  {
   "cell_type": "markdown",
   "metadata": {},
   "source": [
    "11. Write a Python function to check whether a number is \"Perfect\" or not.\n",
    "According to Wikipedia : In number theory, a perfect number is a positive integer\n",
    "that is equal to the sum of its proper positive divisors, that is, the sum of its\n",
    "positive divisors excluding the number itself (also known as its aliquot sum).\n",
    "Equivalently, a perfect number is a number that is half the sum of all of its\n",
    "positive divisors (including itself).\n",
    "Example : The first perfect number is 6, because 1, 2, and 3 are its proper positive\n",
    "divisors, and 1 + 2 + 3 = 6. Equivalently, the number 6 is equal to half the sum of\n",
    "all its positive divisors: ( 1 + 2 + 3 + 6 ) / 2 = 6. The next perfect number is 28 = 1 +\n",
    "2 + 4 + 7 + 14. This is followed by the perfect numbers 496 and 8128. \n"
   ]
  },
  {
   "cell_type": "code",
   "execution_count": 21,
   "metadata": {},
   "outputs": [
    {
     "data": {
      "text/plain": [
       "True"
      ]
     },
     "execution_count": 21,
     "metadata": {},
     "output_type": "execute_result"
    }
   ],
   "source": [
    "def is_perfect(n : int)-> bool:\n",
    "    if n<1:\n",
    "        return False\n",
    "    divisor_sum = 0 \n",
    "\n",
    "    for i in range(1,n):\n",
    "        if n % i == 0:\n",
    "            divisor_sum += i\n",
    "    \n",
    "    return divisor_sum == n\n",
    "\n",
    "is_perfect(6)"
   ]
  },
  {
   "cell_type": "markdown",
   "metadata": {},
   "source": [
    "12. Write a Python function that checks whether a passed string is a palindrome\n",
    "or not.\n",
    "Note: A palindrome is a word, phrase, or sequence that reads the same backward\n",
    "as forward, e.g., madam or nurses run. "
   ]
  },
  {
   "cell_type": "code",
   "execution_count": 56,
   "metadata": {},
   "outputs": [],
   "source": [
    "def checK_palindrome(string : str)-> bool:\n",
    "        cleaned_str = string.replace(\" \", \"\").lower()\n",
    "        return cleaned_str == string[::-1].replace(\" \", \"\").lower()"
   ]
  },
  {
   "cell_type": "code",
   "execution_count": 57,
   "metadata": {},
   "outputs": [
    {
     "data": {
      "text/plain": [
       "True"
      ]
     },
     "execution_count": 57,
     "metadata": {},
     "output_type": "execute_result"
    }
   ],
   "source": [
    "checK_palindrome(' nurses run')"
   ]
  },
  {
   "cell_type": "code",
   "execution_count": null,
   "metadata": {},
   "outputs": [],
   "source": []
  }
 ],
 "metadata": {
  "kernelspec": {
   "display_name": "smit-env",
   "language": "python",
   "name": "python3"
  },
  "language_info": {
   "codemirror_mode": {
    "name": "ipython",
    "version": 3
   },
   "file_extension": ".py",
   "mimetype": "text/x-python",
   "name": "python",
   "nbconvert_exporter": "python",
   "pygments_lexer": "ipython3",
   "version": "3.12.8"
  }
 },
 "nbformat": 4,
 "nbformat_minor": 2
}
