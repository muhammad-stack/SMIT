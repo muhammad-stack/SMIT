{
  "nbformat": 4,
  "nbformat_minor": 0,
  "metadata": {
    "colab": {
      "provenance": []
    },
    "kernelspec": {
      "name": "python3",
      "display_name": "Python 3"
    },
    "language_info": {
      "name": "python"
    }
  },
  "cells": [
    {
      "cell_type": "code",
      "execution_count": 4,
      "metadata": {
        "colab": {
          "base_uri": "https://localhost:8080/"
        },
        "id": "A2lfJX1j0cwq",
        "outputId": "af144e4f-6b56-457d-a2a2-8ebeffc48312"
      },
      "outputs": [
        {
          "name": "stdout",
          "output_type": "stream",
          "text": [
            "Enter the length of the rectangle 4\n",
            "Enter the width of the rectangle 3\n"
          ]
        },
        {
          "output_type": "execute_result",
          "data": {
            "text/plain": [
              "12"
            ]
          },
          "metadata": {},
          "execution_count": 4
        }
      ],
      "source": [
        "length = int(input(\"Enter the length of the rectangle \"))\n",
        "width = int(input(\"Enter the width of the rectangle \"))\n",
        "\n",
        "area = length * width\n",
        "\n",
        "area"
      ]
    },
    {
      "cell_type": "code",
      "source": [
        "radius = int(input(\"Enter the radius you wanna enter\"))\n",
        "\n",
        "circumference = 2 * 3.142 * radius\n",
        "\n",
        "circumference"
      ],
      "metadata": {
        "colab": {
          "base_uri": "https://localhost:8080/"
        },
        "id": "V-ynA0LY027A",
        "outputId": "5abaaccb-1847-4f6d-b59f-ecedf14fdf6f"
      },
      "execution_count": 6,
      "outputs": [
        {
          "name": "stdout",
          "output_type": "stream",
          "text": [
            "Enter the radius you wanna enter3\n"
          ]
        },
        {
          "output_type": "execute_result",
          "data": {
            "text/plain": [
              "18.852"
            ]
          },
          "metadata": {},
          "execution_count": 6
        }
      ]
    },
    {
      "cell_type": "code",
      "source": [
        "principal = int(input(\"Enter the principal Amount you are borrowing or lending\"))\n",
        "rate_of_int = int(input(\"Enter the rate of interest you are borrowing or lending\"))\n",
        "time = int(input(\"Enter the time you are borrowing or lending\"))\n",
        "\n",
        "interest = principal * rate_of_int * time\n",
        "\n",
        "interest"
      ],
      "metadata": {
        "colab": {
          "base_uri": "https://localhost:8080/"
        },
        "id": "JPUP81YL1PBd",
        "outputId": "32087c76-ff8c-4e6f-e842-c31797650420"
      },
      "execution_count": 8,
      "outputs": [
        {
          "name": "stdout",
          "output_type": "stream",
          "text": [
            "Enter the principal Amount you are borrowing or lending4\n",
            "Enter the rate of interest you are borrowing or lending7\n",
            "Enter the time you are borrowing or lending9\n"
          ]
        },
        {
          "output_type": "execute_result",
          "data": {
            "text/plain": [
              "252"
            ]
          },
          "metadata": {},
          "execution_count": 8
        }
      ]
    },
    {
      "cell_type": "code",
      "source": [
        "distance = int(input(\"How much distance you want to cover ?\"))\n",
        "time = int(input(\"How much time you want to cover the distance in ?\"))\n",
        "\n",
        "speed = distance/ time\n",
        "speed\n"
      ],
      "metadata": {
        "colab": {
          "base_uri": "https://localhost:8080/"
        },
        "id": "QggIxD0q1x8w",
        "outputId": "74db87f1-fa16-40ff-ada7-106786263fe6"
      },
      "execution_count": 9,
      "outputs": [
        {
          "name": "stdout",
          "output_type": "stream",
          "text": [
            "How much distance you want to cover ?2\n",
            "How much time you want to cover the distance in ?9\n"
          ]
        },
        {
          "output_type": "execute_result",
          "data": {
            "text/plain": [
              "0.2222222222222222"
            ]
          },
          "metadata": {},
          "execution_count": 9
        }
      ]
    },
    {
      "cell_type": "code",
      "source": [
        "print(\"Writing a program for calculating the body mass index \")\n",
        "weight = int(input(\"Enter the weight in kg ?\"))\n",
        "height = int(input(\"Enter the Height?\"))\n",
        "\n",
        "bmi = weight / height ** 2\n",
        "bmi"
      ],
      "metadata": {
        "colab": {
          "base_uri": "https://localhost:8080/"
        },
        "id": "umfTSb8B2Ikt",
        "outputId": "b54b92b9-60ae-4ef9-d94c-09b18382887a"
      },
      "execution_count": 10,
      "outputs": [
        {
          "name": "stdout",
          "output_type": "stream",
          "text": [
            "Writing a program for calculating the body mass index \n",
            "Enter the weight in kg ?2\n",
            "Enter the Height?7\n"
          ]
        },
        {
          "output_type": "execute_result",
          "data": {
            "text/plain": [
              "0.04081632653061224"
            ]
          },
          "metadata": {},
          "execution_count": 10
        }
      ]
    },
    {
      "cell_type": "code",
      "source": [
        "print(\"Writing a program for calculating the force on a given body \")\n",
        "mass = int(input(\"Write the mass of the body\"))\n",
        "acc = int (input(\"Write the acceleration of the body but in m/s^2\"))\n",
        "\n",
        "force = mass*acc\n",
        "force"
      ],
      "metadata": {
        "colab": {
          "base_uri": "https://localhost:8080/"
        },
        "id": "2Q7-53AL20nt",
        "outputId": "5f1d977e-55b4-46bf-d191-8d1588d22dba"
      },
      "execution_count": 11,
      "outputs": [
        {
          "name": "stdout",
          "output_type": "stream",
          "text": [
            "Writing a program for calculating the force on a given body \n",
            "Write the mass of the body30\n",
            "Write the acceleration of the body but in m/s^28\n"
          ]
        },
        {
          "output_type": "execute_result",
          "data": {
            "text/plain": [
              "240"
            ]
          },
          "metadata": {},
          "execution_count": 11
        }
      ]
    },
    {
      "cell_type": "code",
      "source": [
        "print(\"Writing  a program on calculating the compound interest rate %\")\n",
        "\n",
        "principal = int(input(\"Write the principal value \"))\n",
        "rate_of_int = int(input(\"Write the rate of interest \"))\n",
        "n = int(input(\"Write the compounding duration \"))\n",
        "t = int(input(\"Write the no of years\"))\n",
        "\n",
        "a = principal * (1 + rate_of_int / n) ** (n * t )\n",
        "\n",
        "print(f\"The total payment of the compounded interest is {a}\")"
      ],
      "metadata": {
        "colab": {
          "base_uri": "https://localhost:8080/"
        },
        "id": "sx2pWOhv3LHF",
        "outputId": "4ea8bffd-c44c-419e-faab-2a7edf8f77d9"
      },
      "execution_count": 14,
      "outputs": [
        {
          "output_type": "stream",
          "name": "stdout",
          "text": [
            "Writing  a program on calculating the compound interest rate %\n",
            "Write the principal value4\n",
            "Write the rate of interest3\n",
            "Write the compounding duration5\n",
            "Write the no of years6\n",
            "The total payment of the compounded interest is 5316911.983139672\n"
          ]
        }
      ]
    },
    {
      "cell_type": "code",
      "source": [
        "a = int(input(\"Write the value of side a \"))\n",
        "b= int(input(\"Write the value of side b \"))\n",
        "c= int(input(\"Write the value of side c \"))\n",
        "\n",
        "perimeter = a + b+ c\n",
        "perimeter"
      ],
      "metadata": {
        "colab": {
          "base_uri": "https://localhost:8080/"
        },
        "id": "aUFc5Hfk4Yut",
        "outputId": "23447ab3-32e1-49f4-e8dd-3abcb4c011e4"
      },
      "execution_count": 17,
      "outputs": [
        {
          "name": "stdout",
          "output_type": "stream",
          "text": [
            "Write the value of side a 4\n",
            "Write the value of side b 5\n",
            "Write the value of side c 6\n"
          ]
        },
        {
          "output_type": "execute_result",
          "data": {
            "text/plain": [
              "15"
            ]
          },
          "metadata": {},
          "execution_count": 17
        }
      ]
    },
    {
      "cell_type": "code",
      "source": [
        "radius = int(input(\"Write the value of radius \"))\n",
        "\n",
        "volume = 4/3 * 3.142 * radius ** 3\n",
        "volume"
      ],
      "metadata": {
        "colab": {
          "base_uri": "https://localhost:8080/"
        },
        "id": "_trFd1OO41dt",
        "outputId": "28e0aea9-5975-4842-b717-c90de3cc0547"
      },
      "execution_count": 18,
      "outputs": [
        {
          "name": "stdout",
          "output_type": "stream",
          "text": [
            "Write the value of radius 344\n"
          ]
        },
        {
          "output_type": "execute_result",
          "data": {
            "text/plain": [
              "170537638.57066664"
            ]
          },
          "metadata": {},
          "execution_count": 18
        }
      ]
    },
    {
      "cell_type": "code",
      "source": [
        "mass = int(input(\"Write the value of mass \"))\n",
        "velocity = int(input(\"Write the value of velocity \"))\n",
        "\n",
        "ke = 1/2 * mass * velocity ** 2\n",
        "ke"
      ],
      "metadata": {
        "colab": {
          "base_uri": "https://localhost:8080/"
        },
        "id": "XjkP2lX25Fhs",
        "outputId": "bacd0531-5f3e-4040-9517-18579d7586fc"
      },
      "execution_count": 19,
      "outputs": [
        {
          "name": "stdout",
          "output_type": "stream",
          "text": [
            "Write the value of mass 3\n",
            "Write the value of velocity 78\n"
          ]
        },
        {
          "output_type": "execute_result",
          "data": {
            "text/plain": [
              "9126.0"
            ]
          },
          "metadata": {},
          "execution_count": 19
        }
      ]
    },
    {
      "cell_type": "code",
      "source": [
        "\n",
        "a= int(input(\"Write the value of side a \"))\n",
        "b= int(input(\"Write the value of side b \"))\n",
        "c= int(input(\"Write the value of side c \"))\n",
        "\n",
        "main_form = b**2- (4*(a*c) ** 0.5) / (2 *a )\n",
        "x1,x2 = -b-main_form, -b+main_form\n",
        "\n",
        "print(x1,x2)"
      ],
      "metadata": {
        "colab": {
          "base_uri": "https://localhost:8080/"
        },
        "id": "FBPViuTf5RyF",
        "outputId": "af361eed-17f4-4a80-b549-60a52b720338"
      },
      "execution_count": 24,
      "outputs": [
        {
          "output_type": "stream",
          "name": "stdout",
          "text": [
            "Write the value of side a 4\n",
            "Write the value of side b 5\n",
            "Write the value of side c 8\n",
            "-27.17157287525381 17.17157287525381\n"
          ]
        }
      ]
    },
    {
      "cell_type": "code",
      "source": [
        "celcius = int(input(\"Tell the temp. in celcius: \"))\n",
        "\n",
        "f = (9/5 * celcius) + 32\n",
        "f"
      ],
      "metadata": {
        "colab": {
          "base_uri": "https://localhost:8080/"
        },
        "id": "ZDnxecEu7Wt2",
        "outputId": "b64c41a5-5952-47bf-8ef5-f50446c18e20"
      },
      "execution_count": 26,
      "outputs": [
        {
          "name": "stdout",
          "output_type": "stream",
          "text": [
            "Tell the temp. in celcius: 56\n"
          ]
        },
        {
          "output_type": "execute_result",
          "data": {
            "text/plain": [
              "132.8"
            ]
          },
          "metadata": {},
          "execution_count": 26
        }
      ]
    },
    {
      "cell_type": "code",
      "source": [
        "m1 ,m2 ,r = int(input(\"Give the value of m1\")) , int(input(\"Give the value of m2\")), int(input(\"Give the value of r\"))\n",
        "\n",
        "G = 6.674 * (10 ** -11)  # Gravitational constant\n",
        "f= G * (m1*m2) / r**2\n",
        "f"
      ],
      "metadata": {
        "colab": {
          "base_uri": "https://localhost:8080/"
        },
        "id": "_u0i9ZAB7kPc",
        "outputId": "92911861-7701-4f49-d2d7-98462b52b4a7"
      },
      "execution_count": 30,
      "outputs": [
        {
          "name": "stdout",
          "output_type": "stream",
          "text": [
            "Give the value of m145\n",
            "Give the value of m232\n",
            "Give the value of r2\n"
          ]
        },
        {
          "output_type": "execute_result",
          "data": {
            "text/plain": [
              "2.4026399999999998e-08"
            ]
          },
          "metadata": {},
          "execution_count": 30
        }
      ]
    },
    {
      "cell_type": "code",
      "source": [
        "h ,r = int(input(\"Give the value of r\")) , int(input(\"Give the value of h\"))\n",
        "volume = 3.12 * r ** 2 * h\n",
        "volume"
      ],
      "metadata": {
        "colab": {
          "base_uri": "https://localhost:8080/"
        },
        "id": "If_81RDC8W9N",
        "outputId": "2fb27d35-76a8-411e-b93c-305e9c8ac532"
      },
      "execution_count": 31,
      "outputs": [
        {
          "name": "stdout",
          "output_type": "stream",
          "text": [
            "Give the value of r4\n",
            "Give the value of h190\n"
          ]
        },
        {
          "output_type": "execute_result",
          "data": {
            "text/plain": [
              "450528.0"
            ]
          },
          "metadata": {},
          "execution_count": 31
        }
      ]
    },
    {
      "cell_type": "code",
      "source": [
        "area ,force = int(input(\"Give the value of Area\")) , int(input(\"Give the value of Force\"))\n",
        "\n",
        "pressure = force / area\n",
        "pressure"
      ],
      "metadata": {
        "colab": {
          "base_uri": "https://localhost:8080/"
        },
        "id": "tFnI3tiY8j6V",
        "outputId": "24f1d73d-dead-4d12-899c-cd611fc3d3f9"
      },
      "execution_count": 32,
      "outputs": [
        {
          "name": "stdout",
          "output_type": "stream",
          "text": [
            "Give the value of Area455\n",
            "Give the value of Force2222\n"
          ]
        },
        {
          "output_type": "execute_result",
          "data": {
            "text/plain": [
              "4.883516483516484"
            ]
          },
          "metadata": {},
          "execution_count": 32
        }
      ]
    },
    {
      "cell_type": "code",
      "source": [
        "voltage ,current = int(input(\"Give the value of Voltage\")) , int(input(\"Give the value of Current\"))\n",
        "\n",
        "p= voltage * current\n",
        "\n",
        "p"
      ],
      "metadata": {
        "colab": {
          "base_uri": "https://localhost:8080/"
        },
        "id": "XdNst8ld8yZl",
        "outputId": "eee242d6-b014-44b6-96c1-c7b07af2fa48"
      },
      "execution_count": 34,
      "outputs": [
        {
          "name": "stdout",
          "output_type": "stream",
          "text": [
            "Give the value of Voltage43\n",
            "Give the value of Current54\n"
          ]
        },
        {
          "output_type": "execute_result",
          "data": {
            "text/plain": [
              "2322"
            ]
          },
          "metadata": {},
          "execution_count": 34
        }
      ]
    },
    {
      "cell_type": "code",
      "source": [
        "r = int(input(\"Give the value of Radius\"))\n",
        "\n",
        "p=2*3.142*r\n",
        "\n",
        "p"
      ],
      "metadata": {
        "colab": {
          "base_uri": "https://localhost:8080/"
        },
        "id": "g4fO3HtL8_q-",
        "outputId": "1f98a1ed-90bc-4f58-9296-157eba3aa063"
      },
      "execution_count": 36,
      "outputs": [
        {
          "name": "stdout",
          "output_type": "stream",
          "text": [
            "Give the value of Radius43\n"
          ]
        },
        {
          "output_type": "execute_result",
          "data": {
            "text/plain": [
              "270.212"
            ]
          },
          "metadata": {},
          "execution_count": 36
        }
      ]
    },
    {
      "cell_type": "code",
      "source": [
        "pv ,r ,t = int(input(\"Give the present value \")) , int(input(\"Give the value of rate of interest\")), int(input(\"Give the value of time\"))\n",
        "\n",
        "fv= pv * (1 + r)**t\n",
        "\n",
        "fv\n"
      ],
      "metadata": {
        "colab": {
          "base_uri": "https://localhost:8080/"
        },
        "id": "WY28TnsU9Qht",
        "outputId": "4f3efe3f-2a41-498c-a8e7-881edc2ab403"
      },
      "execution_count": 37,
      "outputs": [
        {
          "name": "stdout",
          "output_type": "stream",
          "text": [
            "Give the present value 23\n",
            "Give the value of rate of interest1\n",
            "Give the value of time2\n"
          ]
        },
        {
          "output_type": "execute_result",
          "data": {
            "text/plain": [
              "92"
            ]
          },
          "metadata": {},
          "execution_count": 37
        }
      ]
    },
    {
      "cell_type": "code",
      "source": [
        "import math\n",
        "force ,d ,theta = int(input(\"Give the force value \")) , int(input(\"Give the value of distance\")), int(input(\"Give the value of angle\"))\n",
        "theta_rad = math.radians(theta)\n",
        "\n",
        "\n",
        "work_done = f *d * math.cos(theta_rad)\n",
        "\n",
        "work_done"
      ],
      "metadata": {
        "colab": {
          "base_uri": "https://localhost:8080/"
        },
        "id": "f5uQW-be9ov1",
        "outputId": "21d4f3fb-601d-4204-aad9-e53d88c0aa6f"
      },
      "execution_count": 38,
      "outputs": [
        {
          "name": "stdout",
          "output_type": "stream",
          "text": [
            "Give the force value 45\n",
            "Give the value of distance5\n",
            "Give the value of angle90\n"
          ]
        },
        {
          "output_type": "execute_result",
          "data": {
            "text/plain": [
              "7.35596346375849e-24"
            ]
          },
          "metadata": {},
          "execution_count": 38
        }
      ]
    },
    {
      "cell_type": "code",
      "source": [
        "mass ,capacity ,diff_temp = int(input(\"Give the mass value \")) , int(input(\"Give the value of capacity of a subustance\")), int(input(\"Give the value of diff of temp b/w the objects\"))\n",
        "\n",
        "\n",
        "q = mass * capacity * diff_temp\n",
        "\n",
        "q"
      ],
      "metadata": {
        "colab": {
          "base_uri": "https://localhost:8080/"
        },
        "id": "0a17VzCW-agv",
        "outputId": "8050f01e-4332-47f0-a620-c991decbb293"
      },
      "execution_count": 40,
      "outputs": [
        {
          "name": "stdout",
          "output_type": "stream",
          "text": [
            "Give the mass value 4\n",
            "Give the value of capacity of a subustance2\n",
            "Give the value of diff of temp b/w the objects6\n"
          ]
        },
        {
          "output_type": "execute_result",
          "data": {
            "text/plain": [
              "48"
            ]
          },
          "metadata": {},
          "execution_count": 40
        }
      ]
    }
  ]
}