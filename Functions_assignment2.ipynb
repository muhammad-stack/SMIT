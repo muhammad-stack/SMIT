{
 "cells": [
  {
   "cell_type": "markdown",
   "metadata": {},
   "source": [
    "Task1: \n",
    "You need to write a function in python that return all such numbers which are \n",
    "divisible by 7 but are not a multiple of 5, between 2000 and 3200 (both included). \n",
    "Return the obtained numbers in a comma-separated sequence on a single line"
   ]
  },
  {
   "cell_type": "code",
   "execution_count": null,
   "metadata": {},
   "outputs": [],
   "source": [
    "def find_special_numbers(start: int = 2000, end: int = 3200) -> str:\n",
    "    \"\"\"\n",
    "    Find numbers divisible by 7 but not by 5 in given range.\n",
    "    \n",
    "    Args:\n",
    "        start: Start of range (default 2000)\n",
    "        end: End of range (default 3200)\n",
    "    \n",
    "    Returns:\n",
    "        Comma-separated string of numbers meeting criteria\n",
    "    \"\"\"\n",
    "    numbers = [str(n) for n in range(start, end + 1) if n % 7 == 0 and n % 5 != 0]\n",
    "    return ','.join(numbers)\n",
    "\n",
    "# Test the function\n",
    "# print(find_special_numbers())  # Will print numbers between 2000-3200\n",
    "print(find_special_numbers(1, 50))  # Test with smaller range"
   ]
  },
  {
   "cell_type": "markdown",
   "metadata": {},
   "source": [
    "Task2:\n",
    "You need code a function that calculates and returns the value according to the\n",
    "given formula:\n",
    "P = Square root of [(2 * A * B)/C]\n",
    "Following are the fixed values of A and B:\n",
    "A is 50. B is 30.\n",
    "The values of the literal C should be taken as console input to your program in a\n",
    "comma-separated sequence.\n",
    "Example\n",
    "Let us assume the following comma separated input sequence is given to the\n",
    "program:\n",
    "100,150,180\n",
    "The output of the program should be:\n",
    "18,22,24 \n"
   ]
  },
  {
   "cell_type": "code",
   "execution_count": null,
   "metadata": {},
   "outputs": [],
   "source": [
    "from math import sqrt\n",
    "\n",
    "\n",
    "def calculate(A :int = 50, B:int = 30 ):\n",
    "    C = input('Enter the numbers in a comma seprated format:').split(',')\n",
    "    print(type(C))\n",
    "    for i in C:\n",
    "        P = ((2* A *B) / int(i)) ** 0.5\n",
    "        print(P)\n",
    "\n",
    "calculate()"
   ]
  },
  {
   "cell_type": "markdown",
   "metadata": {},
   "source": [
    "Task3:\n",
    "You need to write a function that takes a comma separated sequence of words as\n",
    "input and prints the words in a comma-separated sequence after sorting them\n",
    "alphabetically.\n",
    "Suppose the following input is supplied to the program:\n",
    "without,hello,bag,world\n",
    "Then, the output should be:\n",
    "bag,hello,without,world \n"
   ]
  },
  {
   "cell_type": "code",
   "execution_count": null,
   "metadata": {},
   "outputs": [],
   "source": [
    "def sort_sentence():\n",
    "    sentence:str = input(\"Enter the words in a comma seprated manner\").split(\",\")\n",
    "    word = ' '.join(sentence)\n",
    "    \n",
    "\n",
    "\n",
    "sort_sentence()"
   ]
  },
  {
   "cell_type": "code",
   "execution_count": null,
   "metadata": {},
   "outputs": [],
   "source": [
    "e"
   ]
  }
 ],
 "metadata": {
  "kernelspec": {
   "display_name": "smit-env",
   "language": "python",
   "name": "python3"
  },
  "language_info": {
   "codemirror_mode": {
    "name": "ipython",
    "version": 3
   },
   "file_extension": ".py",
   "mimetype": "text/x-python",
   "name": "python",
   "nbconvert_exporter": "python",
   "pygments_lexer": "ipython3",
   "version": "3.12.8"
  }
 },
 "nbformat": 4,
 "nbformat_minor": 2
}
